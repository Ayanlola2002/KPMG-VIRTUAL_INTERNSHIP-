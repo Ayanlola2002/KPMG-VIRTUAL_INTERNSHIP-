{
  "nbformat": 4,
  "nbformat_minor": 0,
  "metadata": {
    "colab": {
      "name": "KPMG.ipynb",
      "provenance": [],
      "collapsed_sections": [],
      "include_colab_link": true
    },
    "kernelspec": {
      "name": "python3",
      "display_name": "Python 3"
    }
  },
  "cells": [
    {
      "cell_type": "markdown",
      "metadata": {
        "id": "view-in-github",
        "colab_type": "text"
      },
      "source": [
        "<a href=\"https://colab.research.google.com/github/Ayanlola2002/KPMG-VIRTUAL_INTERNSHIP-/blob/master/KPMG.ipynb\" target=\"_parent\"><img src=\"https://colab.research.google.com/assets/colab-badge.svg\" alt=\"Open In Colab\"/></a>"
      ]
    },
    {
      "cell_type": "code",
      "metadata": {
        "id": "TQ9zC41rqa_R",
        "colab_type": "code",
        "colab": {}
      },
      "source": [
        "import pandas as pd\n",
        "import numpy as np\n",
        "#modifying the customer_demo_data dataframe\n",
        "from datetime import datetime,date\n",
        "#import datetime as dt\n",
        "from dateutil.relativedelta import relativedelta\n",
        "\n"
      ],
      "execution_count": 0,
      "outputs": []
    },
    {
      "cell_type": "code",
      "metadata": {
        "id": "EIoF04bcH8hm",
        "colab_type": "code",
        "colab": {}
      },
      "source": [
        "Customer_address_data=pd.read_csv(\"Customer_address.csv\")\n",
        "Customer_demo_data=pd.read_csv(\"Customer_Demographics.csv\")\n",
        "Transaction_Data=pd.read_csv(\"Transaction.csv\")\n",
        "CData_copy=Customer_address_data.copy()\n",
        "CDataDemo_copy=Customer_demo_data.copy()\n",
        "TData_copy=Transaction_Data.copy()"
      ],
      "execution_count": 0,
      "outputs": []
    },
    {
      "cell_type": "code",
      "metadata": {
        "id": "_j6ZqFheIlif",
        "colab_type": "code",
        "colab": {}
      },
      "source": [
        "#setting index to customer_id column\n",
        "Customer_address_data.set_index('customer_id',inplace=True)\n",
        "CData_copy.set_index('customer_id',inplace=True)"
      ],
      "execution_count": 0,
      "outputs": []
    },
    {
      "cell_type": "code",
      "metadata": {
        "id": "Nx2tBhgbLB1s",
        "colab_type": "code",
        "colab": {}
      },
      "source": [
        "Customer_demo_data.set_index('customer_id',inplace=True)\n",
        "CDataDemo_copy.set_index('customer_id',inplace=True)"
      ],
      "execution_count": 0,
      "outputs": []
    },
    {
      "cell_type": "code",
      "metadata": {
        "id": "nxCSxw-iLVmH",
        "colab_type": "code",
        "colab": {}
      },
      "source": [
        "Transaction_Data.set_index('transaction_id',inplace=True)\n",
        "TData_copy.set_index('customer_id',inplace=True)"
      ],
      "execution_count": 0,
      "outputs": []
    },
    {
      "cell_type": "code",
      "metadata": {
        "id": "OggnVRxI1yKa",
        "colab_type": "code",
        "colab": {}
      },
      "source": [
        "#important_indexes=Customer_demo_data.index.unique()\n",
        "important_indexes=CDataDemo_copy.index.unique()"
      ],
      "execution_count": 0,
      "outputs": []
    },
    {
      "cell_type": "code",
      "metadata": {
        "id": "JKT9_spO2Xwq",
        "colab_type": "code",
        "outputId": "d8615a6c-80b9-4819-a68a-8175a4ff9c28",
        "colab": {
          "base_uri": "https://localhost:8080/",
          "height": 255
        }
      },
      "source": [
        "#use customer ID to extract the information from trasaction and customer Address\n",
        "#Customer_address_data=Customer_address_data.loc[important_indexes]  \n",
        "#Transaction_Data=Transaction_Data.loc[important_indexes]\n",
        "\n",
        "CData_copy=CData_copy.loc[important_indexes]  \n",
        "TData_copy=TData_copy.loc[important_indexes]"
      ],
      "execution_count": 65,
      "outputs": [
        {
          "output_type": "stream",
          "text": [
            "/usr/local/lib/python3.6/dist-packages/ipykernel_launcher.py:2: FutureWarning: \n",
            "Passing list-likes to .loc or [] with any missing label will raise\n",
            "KeyError in the future, you can use .reindex() as an alternative.\n",
            "\n",
            "See the documentation here:\n",
            "https://pandas.pydata.org/pandas-docs/stable/user_guide/indexing.html#deprecate-loc-reindex-listlike\n",
            "  \n",
            "/usr/local/lib/python3.6/dist-packages/ipykernel_launcher.py:3: FutureWarning: \n",
            "Passing list-likes to .loc or [] with any missing label will raise\n",
            "KeyError in the future, you can use .reindex() as an alternative.\n",
            "\n",
            "See the documentation here:\n",
            "https://pandas.pydata.org/pandas-docs/stable/user_guide/indexing.html#deprecate-loc-reindex-listlike\n",
            "  This is separate from the ipykernel package so we can avoid doing imports until\n"
          ],
          "name": "stderr"
        }
      ]
    },
    {
      "cell_type": "code",
      "metadata": {
        "id": "GFRgCbF64UkX",
        "colab_type": "code",
        "colab": {}
      },
      "source": [
        "#Customer_demo_data.index=Customer_demo_data.index.astype('int')\n",
        "#Customer_demo_data.sort_index(inplace=True)\n",
        "\n",
        "CDataDemo_copy.index=CDataDemo_copy.index.astype('int')\n",
        "CDataDemo_copy.sort_index(inplace=True)"
      ],
      "execution_count": 0,
      "outputs": []
    },
    {
      "cell_type": "code",
      "metadata": {
        "id": "0yaiJGHf5SFx",
        "colab_type": "code",
        "colab": {}
      },
      "source": [
        "#Transaction_Data.index=Customer_demo_data.index.astype('int')\n",
        "#Transaction_Data.sort_index(inplace=True)\n",
        "\n",
        "TData_copy.index=TData_copy.index.astype('int')\n",
        "TData_copy.sort_index(inplace=True)"
      ],
      "execution_count": 0,
      "outputs": []
    },
    {
      "cell_type": "code",
      "metadata": {
        "id": "BijPO-DELi94",
        "colab_type": "code",
        "outputId": "7da02bdb-1d1b-44d2-ab3e-4e3f54e0a514",
        "colab": {
          "base_uri": "https://localhost:8080/",
          "height": 119
        }
      },
      "source": [
        "#checking Missing value in customer address\n",
        "CData_copy.isnull().sum()"
      ],
      "execution_count": 68,
      "outputs": [
        {
          "output_type": "execute_result",
          "data": {
            "text/plain": [
              "address               4\n",
              "postcode              4\n",
              "state                 4\n",
              "country               4\n",
              "property_valuation    4\n",
              "dtype: int64"
            ]
          },
          "metadata": {
            "tags": []
          },
          "execution_count": 68
        }
      ]
    },
    {
      "cell_type": "code",
      "metadata": {
        "id": "mr--g4vXRAIc",
        "colab_type": "code",
        "outputId": "12f1d7e4-7f6f-47c0-a98f-a52eb9a033eb",
        "colab": {
          "base_uri": "https://localhost:8080/",
          "height": 238
        }
      },
      "source": [
        "#checking Missing value in customer address\n",
        "CDataDemo_copy.isnull().sum()"
      ],
      "execution_count": 69,
      "outputs": [
        {
          "output_type": "execute_result",
          "data": {
            "text/plain": [
              "first_name                               0\n",
              "last_name                              125\n",
              "gender                                   0\n",
              "past_3_years_bike_related_purchases      0\n",
              "DOB                                     87\n",
              "job_title                              506\n",
              "job_industry_category                  656\n",
              "wealth_segment                           0\n",
              "deceased_indicator                       0\n",
              "default                                302\n",
              "owns_car                                 0\n",
              "tenure                                  87\n",
              "dtype: int64"
            ]
          },
          "metadata": {
            "tags": []
          },
          "execution_count": 69
        }
      ]
    },
    {
      "cell_type": "code",
      "metadata": {
        "id": "nXzVqvzPRp_v",
        "colab_type": "code",
        "outputId": "c4f7f931-f823-49ba-c564-87f3e0cb1a59",
        "colab": {
          "base_uri": "https://localhost:8080/",
          "height": 238
        }
      },
      "source": [
        "#checking Missing value in customer address\n",
        "TData_copy.isnull().sum()"
      ],
      "execution_count": 70,
      "outputs": [
        {
          "output_type": "execute_result",
          "data": {
            "text/plain": [
              "transaction_id             507\n",
              "product_id                 507\n",
              "transaction_date           507\n",
              "online_order               867\n",
              "order_status               507\n",
              "brand                      704\n",
              "product_line               704\n",
              "product_class              704\n",
              "product_size               704\n",
              "list_price                 507\n",
              "standard_cost              704\n",
              "product_first_sold_date    704\n",
              "dtype: int64"
            ]
          },
          "metadata": {
            "tags": []
          },
          "execution_count": 70
        }
      ]
    },
    {
      "cell_type": "code",
      "metadata": {
        "id": "40X7OuG5T64k",
        "colab_type": "code",
        "outputId": "7cbd8b0f-693f-40cc-d7af-27946aee16ec",
        "colab": {
          "base_uri": "https://localhost:8080/",
          "height": 68
        }
      },
      "source": [
        "#print(Customer_address_data.shape)\n",
        "#print(Customer_demo_data.shape)\n",
        "#print(Transaction_Data.shape)\n",
        "\n",
        "print(CData_copy.shape)\n",
        "print(CDataDemo_copy.shape)\n",
        "print(TData_copy.shape)"
      ],
      "execution_count": 71,
      "outputs": [
        {
          "output_type": "stream",
          "text": [
            "(4000, 5)\n",
            "(4000, 12)\n",
            "(20504, 12)\n"
          ],
          "name": "stdout"
        }
      ]
    },
    {
      "cell_type": "code",
      "metadata": {
        "id": "pRx2lre9Ueu7",
        "colab_type": "code",
        "outputId": "4ad47ca2-307d-432e-aabd-8eb4548a2876",
        "colab": {
          "base_uri": "https://localhost:8080/",
          "height": 34
        }
      },
      "source": [
        "CDataDemo_copy.index.isin(CData_copy.index).sum()"
      ],
      "execution_count": 72,
      "outputs": [
        {
          "output_type": "execute_result",
          "data": {
            "text/plain": [
              "4000"
            ]
          },
          "metadata": {
            "tags": []
          },
          "execution_count": 72
        }
      ]
    },
    {
      "cell_type": "code",
      "metadata": {
        "id": "ReqcgBKoYciR",
        "colab_type": "code",
        "colab": {}
      },
      "source": [
        "#getting the actual columns\n",
        "DataDiff=pd.merge(CDataDemo_copy,CData_copy,on=\"customer_id\",how='outer',indicator='Exist')\n",
        "DataDiff=DataDiff.loc[DataDiff['Exist'] !='both' ]\n"
      ],
      "execution_count": 0,
      "outputs": []
    },
    {
      "cell_type": "code",
      "metadata": {
        "id": "lUUJwWnkZxcD",
        "colab_type": "code",
        "outputId": "5d038a35-777e-40c0-dd10-ec901a119e22",
        "colab": {
          "base_uri": "https://localhost:8080/",
          "height": 100
        }
      },
      "source": [
        "DataDiff"
      ],
      "execution_count": 74,
      "outputs": [
        {
          "output_type": "execute_result",
          "data": {
            "text/html": [
              "<div>\n",
              "<style scoped>\n",
              "    .dataframe tbody tr th:only-of-type {\n",
              "        vertical-align: middle;\n",
              "    }\n",
              "\n",
              "    .dataframe tbody tr th {\n",
              "        vertical-align: top;\n",
              "    }\n",
              "\n",
              "    .dataframe thead th {\n",
              "        text-align: right;\n",
              "    }\n",
              "</style>\n",
              "<table border=\"1\" class=\"dataframe\">\n",
              "  <thead>\n",
              "    <tr style=\"text-align: right;\">\n",
              "      <th></th>\n",
              "      <th>first_name</th>\n",
              "      <th>last_name</th>\n",
              "      <th>gender</th>\n",
              "      <th>past_3_years_bike_related_purchases</th>\n",
              "      <th>DOB</th>\n",
              "      <th>job_title</th>\n",
              "      <th>job_industry_category</th>\n",
              "      <th>wealth_segment</th>\n",
              "      <th>deceased_indicator</th>\n",
              "      <th>default</th>\n",
              "      <th>owns_car</th>\n",
              "      <th>tenure</th>\n",
              "      <th>address</th>\n",
              "      <th>postcode</th>\n",
              "      <th>state</th>\n",
              "      <th>country</th>\n",
              "      <th>property_valuation</th>\n",
              "      <th>Exist</th>\n",
              "    </tr>\n",
              "    <tr>\n",
              "      <th>customer_id</th>\n",
              "      <th></th>\n",
              "      <th></th>\n",
              "      <th></th>\n",
              "      <th></th>\n",
              "      <th></th>\n",
              "      <th></th>\n",
              "      <th></th>\n",
              "      <th></th>\n",
              "      <th></th>\n",
              "      <th></th>\n",
              "      <th></th>\n",
              "      <th></th>\n",
              "      <th></th>\n",
              "      <th></th>\n",
              "      <th></th>\n",
              "      <th></th>\n",
              "      <th></th>\n",
              "      <th></th>\n",
              "    </tr>\n",
              "  </thead>\n",
              "  <tbody>\n",
              "  </tbody>\n",
              "</table>\n",
              "</div>"
            ],
            "text/plain": [
              "Empty DataFrame\n",
              "Columns: [first_name, last_name, gender, past_3_years_bike_related_purchases, DOB, job_title, job_industry_category, wealth_segment, deceased_indicator, default, owns_car, tenure, address, postcode, state, country, property_valuation, Exist]\n",
              "Index: []"
            ]
          },
          "metadata": {
            "tags": []
          },
          "execution_count": 74
        }
      ]
    },
    {
      "cell_type": "code",
      "metadata": {
        "id": "YC5bV84P8QQd",
        "colab_type": "code",
        "outputId": "eb34c0d8-a534-44ff-9596-ef5ac9c06d17",
        "colab": {
          "base_uri": "https://localhost:8080/",
          "height": 68
        }
      },
      "source": [
        "#checking the number of distinct customer_id in the three dataset\n",
        "print(CData_copy.index.nunique())\n",
        "print(CDataDemo_copy.index.nunique())\n",
        "print(TData_copy.index.nunique())"
      ],
      "execution_count": 75,
      "outputs": [
        {
          "output_type": "stream",
          "text": [
            "4000\n",
            "4000\n",
            "4000\n"
          ],
          "name": "stdout"
        }
      ]
    },
    {
      "cell_type": "code",
      "metadata": {
        "id": "acdG-ccZ9JMy",
        "colab_type": "code",
        "outputId": "3e3e7bfb-d682-4b1f-8619-aa6452bcf211",
        "colab": {
          "base_uri": "https://localhost:8080/",
          "height": 297
        }
      },
      "source": [
        "#customer address summary statistics\n",
        "CData_copy.describe()"
      ],
      "execution_count": 76,
      "outputs": [
        {
          "output_type": "execute_result",
          "data": {
            "text/html": [
              "<div>\n",
              "<style scoped>\n",
              "    .dataframe tbody tr th:only-of-type {\n",
              "        vertical-align: middle;\n",
              "    }\n",
              "\n",
              "    .dataframe tbody tr th {\n",
              "        vertical-align: top;\n",
              "    }\n",
              "\n",
              "    .dataframe thead th {\n",
              "        text-align: right;\n",
              "    }\n",
              "</style>\n",
              "<table border=\"1\" class=\"dataframe\">\n",
              "  <thead>\n",
              "    <tr style=\"text-align: right;\">\n",
              "      <th></th>\n",
              "      <th>postcode</th>\n",
              "      <th>property_valuation</th>\n",
              "    </tr>\n",
              "  </thead>\n",
              "  <tbody>\n",
              "    <tr>\n",
              "      <th>count</th>\n",
              "      <td>3996.000000</td>\n",
              "      <td>3996.000000</td>\n",
              "    </tr>\n",
              "    <tr>\n",
              "      <th>mean</th>\n",
              "      <td>2985.735485</td>\n",
              "      <td>7.514014</td>\n",
              "    </tr>\n",
              "    <tr>\n",
              "      <th>std</th>\n",
              "      <td>844.945641</td>\n",
              "      <td>2.825426</td>\n",
              "    </tr>\n",
              "    <tr>\n",
              "      <th>min</th>\n",
              "      <td>2000.000000</td>\n",
              "      <td>1.000000</td>\n",
              "    </tr>\n",
              "    <tr>\n",
              "      <th>25%</th>\n",
              "      <td>2200.000000</td>\n",
              "      <td>6.000000</td>\n",
              "    </tr>\n",
              "    <tr>\n",
              "      <th>50%</th>\n",
              "      <td>2768.000000</td>\n",
              "      <td>8.000000</td>\n",
              "    </tr>\n",
              "    <tr>\n",
              "      <th>75%</th>\n",
              "      <td>3750.000000</td>\n",
              "      <td>10.000000</td>\n",
              "    </tr>\n",
              "    <tr>\n",
              "      <th>max</th>\n",
              "      <td>4883.000000</td>\n",
              "      <td>12.000000</td>\n",
              "    </tr>\n",
              "  </tbody>\n",
              "</table>\n",
              "</div>"
            ],
            "text/plain": [
              "          postcode  property_valuation\n",
              "count  3996.000000         3996.000000\n",
              "mean   2985.735485            7.514014\n",
              "std     844.945641            2.825426\n",
              "min    2000.000000            1.000000\n",
              "25%    2200.000000            6.000000\n",
              "50%    2768.000000            8.000000\n",
              "75%    3750.000000           10.000000\n",
              "max    4883.000000           12.000000"
            ]
          },
          "metadata": {
            "tags": []
          },
          "execution_count": 76
        }
      ]
    },
    {
      "cell_type": "code",
      "metadata": {
        "id": "WCUFVVP_-DVg",
        "colab_type": "code",
        "outputId": "3a57bb6b-3a53-41c8-bf05-d2102ea16a6c",
        "colab": {
          "base_uri": "https://localhost:8080/",
          "height": 297
        }
      },
      "source": [
        "CDataDemo_copy.describe()"
      ],
      "execution_count": 77,
      "outputs": [
        {
          "output_type": "execute_result",
          "data": {
            "text/html": [
              "<div>\n",
              "<style scoped>\n",
              "    .dataframe tbody tr th:only-of-type {\n",
              "        vertical-align: middle;\n",
              "    }\n",
              "\n",
              "    .dataframe tbody tr th {\n",
              "        vertical-align: top;\n",
              "    }\n",
              "\n",
              "    .dataframe thead th {\n",
              "        text-align: right;\n",
              "    }\n",
              "</style>\n",
              "<table border=\"1\" class=\"dataframe\">\n",
              "  <thead>\n",
              "    <tr style=\"text-align: right;\">\n",
              "      <th></th>\n",
              "      <th>past_3_years_bike_related_purchases</th>\n",
              "      <th>tenure</th>\n",
              "    </tr>\n",
              "  </thead>\n",
              "  <tbody>\n",
              "    <tr>\n",
              "      <th>count</th>\n",
              "      <td>4000.000000</td>\n",
              "      <td>3913.000000</td>\n",
              "    </tr>\n",
              "    <tr>\n",
              "      <th>mean</th>\n",
              "      <td>48.890000</td>\n",
              "      <td>10.657041</td>\n",
              "    </tr>\n",
              "    <tr>\n",
              "      <th>std</th>\n",
              "      <td>28.715005</td>\n",
              "      <td>5.660146</td>\n",
              "    </tr>\n",
              "    <tr>\n",
              "      <th>min</th>\n",
              "      <td>0.000000</td>\n",
              "      <td>1.000000</td>\n",
              "    </tr>\n",
              "    <tr>\n",
              "      <th>25%</th>\n",
              "      <td>24.000000</td>\n",
              "      <td>6.000000</td>\n",
              "    </tr>\n",
              "    <tr>\n",
              "      <th>50%</th>\n",
              "      <td>48.000000</td>\n",
              "      <td>11.000000</td>\n",
              "    </tr>\n",
              "    <tr>\n",
              "      <th>75%</th>\n",
              "      <td>73.000000</td>\n",
              "      <td>15.000000</td>\n",
              "    </tr>\n",
              "    <tr>\n",
              "      <th>max</th>\n",
              "      <td>99.000000</td>\n",
              "      <td>22.000000</td>\n",
              "    </tr>\n",
              "  </tbody>\n",
              "</table>\n",
              "</div>"
            ],
            "text/plain": [
              "       past_3_years_bike_related_purchases       tenure\n",
              "count                          4000.000000  3913.000000\n",
              "mean                             48.890000    10.657041\n",
              "std                              28.715005     5.660146\n",
              "min                               0.000000     1.000000\n",
              "25%                              24.000000     6.000000\n",
              "50%                              48.000000    11.000000\n",
              "75%                              73.000000    15.000000\n",
              "max                              99.000000    22.000000"
            ]
          },
          "metadata": {
            "tags": []
          },
          "execution_count": 77
        }
      ]
    },
    {
      "cell_type": "code",
      "metadata": {
        "id": "1iC-n8m4-Jsu",
        "colab_type": "code",
        "outputId": "4d4c63e8-3069-4fad-91aa-84000a99d08c",
        "colab": {
          "base_uri": "https://localhost:8080/",
          "height": 297
        }
      },
      "source": [
        "TData_copy.describe()"
      ],
      "execution_count": 78,
      "outputs": [
        {
          "output_type": "execute_result",
          "data": {
            "text/html": [
              "<div>\n",
              "<style scoped>\n",
              "    .dataframe tbody tr th:only-of-type {\n",
              "        vertical-align: middle;\n",
              "    }\n",
              "\n",
              "    .dataframe tbody tr th {\n",
              "        vertical-align: top;\n",
              "    }\n",
              "\n",
              "    .dataframe thead th {\n",
              "        text-align: right;\n",
              "    }\n",
              "</style>\n",
              "<table border=\"1\" class=\"dataframe\">\n",
              "  <thead>\n",
              "    <tr style=\"text-align: right;\">\n",
              "      <th></th>\n",
              "      <th>transaction_id</th>\n",
              "      <th>product_id</th>\n",
              "      <th>online_order</th>\n",
              "      <th>list_price</th>\n",
              "      <th>product_first_sold_date</th>\n",
              "    </tr>\n",
              "  </thead>\n",
              "  <tbody>\n",
              "    <tr>\n",
              "      <th>count</th>\n",
              "      <td>19997.000000</td>\n",
              "      <td>19997.000000</td>\n",
              "      <td>19637.000000</td>\n",
              "      <td>19997.000000</td>\n",
              "      <td>19800.000000</td>\n",
              "    </tr>\n",
              "    <tr>\n",
              "      <th>mean</th>\n",
              "      <td>9999.856078</td>\n",
              "      <td>45.371456</td>\n",
              "      <td>0.500535</td>\n",
              "      <td>1107.919641</td>\n",
              "      <td>38199.919747</td>\n",
              "    </tr>\n",
              "    <tr>\n",
              "      <th>std</th>\n",
              "      <td>5773.636854</td>\n",
              "      <td>30.750876</td>\n",
              "      <td>0.500012</td>\n",
              "      <td>582.818787</td>\n",
              "      <td>2875.056794</td>\n",
              "    </tr>\n",
              "    <tr>\n",
              "      <th>min</th>\n",
              "      <td>1.000000</td>\n",
              "      <td>0.000000</td>\n",
              "      <td>0.000000</td>\n",
              "      <td>12.010000</td>\n",
              "      <td>33259.000000</td>\n",
              "    </tr>\n",
              "    <tr>\n",
              "      <th>25%</th>\n",
              "      <td>5000.000000</td>\n",
              "      <td>18.000000</td>\n",
              "      <td>0.000000</td>\n",
              "      <td>575.270000</td>\n",
              "      <td>35667.000000</td>\n",
              "    </tr>\n",
              "    <tr>\n",
              "      <th>50%</th>\n",
              "      <td>10000.000000</td>\n",
              "      <td>44.000000</td>\n",
              "      <td>1.000000</td>\n",
              "      <td>1163.890000</td>\n",
              "      <td>38216.000000</td>\n",
              "    </tr>\n",
              "    <tr>\n",
              "      <th>75%</th>\n",
              "      <td>14999.000000</td>\n",
              "      <td>72.000000</td>\n",
              "      <td>1.000000</td>\n",
              "      <td>1635.300000</td>\n",
              "      <td>40672.000000</td>\n",
              "    </tr>\n",
              "    <tr>\n",
              "      <th>max</th>\n",
              "      <td>20000.000000</td>\n",
              "      <td>100.000000</td>\n",
              "      <td>1.000000</td>\n",
              "      <td>2091.470000</td>\n",
              "      <td>42710.000000</td>\n",
              "    </tr>\n",
              "  </tbody>\n",
              "</table>\n",
              "</div>"
            ],
            "text/plain": [
              "       transaction_id    product_id  ...    list_price  product_first_sold_date\n",
              "count    19997.000000  19997.000000  ...  19997.000000             19800.000000\n",
              "mean      9999.856078     45.371456  ...   1107.919641             38199.919747\n",
              "std       5773.636854     30.750876  ...    582.818787              2875.056794\n",
              "min          1.000000      0.000000  ...     12.010000             33259.000000\n",
              "25%       5000.000000     18.000000  ...    575.270000             35667.000000\n",
              "50%      10000.000000     44.000000  ...   1163.890000             38216.000000\n",
              "75%      14999.000000     72.000000  ...   1635.300000             40672.000000\n",
              "max      20000.000000    100.000000  ...   2091.470000             42710.000000\n",
              "\n",
              "[8 rows x 5 columns]"
            ]
          },
          "metadata": {
            "tags": []
          },
          "execution_count": 78
        }
      ]
    },
    {
      "cell_type": "code",
      "metadata": {
        "id": "2WMtZ9-vCAEr",
        "colab_type": "code",
        "outputId": "fa5ec42e-ce71-4385-9438-5d98d0de2d16",
        "colab": {
          "base_uri": "https://localhost:8080/",
          "height": 119
        }
      },
      "source": [
        "#calculating perfcent of missing values\n",
        "CData_copy.isnull().mean()*100"
      ],
      "execution_count": 79,
      "outputs": [
        {
          "output_type": "execute_result",
          "data": {
            "text/plain": [
              "address               0.1\n",
              "postcode              0.1\n",
              "state                 0.1\n",
              "country               0.1\n",
              "property_valuation    0.1\n",
              "dtype: float64"
            ]
          },
          "metadata": {
            "tags": []
          },
          "execution_count": 79
        }
      ]
    },
    {
      "cell_type": "code",
      "metadata": {
        "id": "qG0kgx_RCTpu",
        "colab_type": "code",
        "outputId": "9ded31e7-3249-45fd-a5ae-51aaf6b42164",
        "colab": {
          "base_uri": "https://localhost:8080/",
          "height": 238
        }
      },
      "source": [
        "CDataDemo_copy.isnull().mean()*100"
      ],
      "execution_count": 80,
      "outputs": [
        {
          "output_type": "execute_result",
          "data": {
            "text/plain": [
              "first_name                              0.000\n",
              "last_name                               3.125\n",
              "gender                                  0.000\n",
              "past_3_years_bike_related_purchases     0.000\n",
              "DOB                                     2.175\n",
              "job_title                              12.650\n",
              "job_industry_category                  16.400\n",
              "wealth_segment                          0.000\n",
              "deceased_indicator                      0.000\n",
              "default                                 7.550\n",
              "owns_car                                0.000\n",
              "tenure                                  2.175\n",
              "dtype: float64"
            ]
          },
          "metadata": {
            "tags": []
          },
          "execution_count": 80
        }
      ]
    },
    {
      "cell_type": "code",
      "metadata": {
        "id": "3TeKQEu_CdPI",
        "colab_type": "code",
        "outputId": "4d4105c8-2518-4691-ce24-809e9c0536d5",
        "colab": {
          "base_uri": "https://localhost:8080/",
          "height": 238
        }
      },
      "source": [
        "TData_copy.isnull().mean()*100"
      ],
      "execution_count": 81,
      "outputs": [
        {
          "output_type": "execute_result",
          "data": {
            "text/plain": [
              "transaction_id             2.472688\n",
              "product_id                 2.472688\n",
              "transaction_date           2.472688\n",
              "online_order               4.228443\n",
              "order_status               2.472688\n",
              "brand                      3.433476\n",
              "product_line               3.433476\n",
              "product_class              3.433476\n",
              "product_size               3.433476\n",
              "list_price                 2.472688\n",
              "standard_cost              3.433476\n",
              "product_first_sold_date    3.433476\n",
              "dtype: float64"
            ]
          },
          "metadata": {
            "tags": []
          },
          "execution_count": 81
        }
      ]
    },
    {
      "cell_type": "code",
      "metadata": {
        "id": "AccXOsX4FPD2",
        "colab_type": "code",
        "outputId": "21333306-f939-4022-ddad-2e89afeb2706",
        "colab": {
          "base_uri": "https://localhost:8080/",
          "height": 34
        }
      },
      "source": [
        "#rows with null values for Customer address\n",
        "CData_copy.isnull().any(axis=0).sum()"
      ],
      "execution_count": 82,
      "outputs": [
        {
          "output_type": "execute_result",
          "data": {
            "text/plain": [
              "5"
            ]
          },
          "metadata": {
            "tags": []
          },
          "execution_count": 82
        }
      ]
    },
    {
      "cell_type": "code",
      "metadata": {
        "id": "Jq5hOnrnFjmX",
        "colab_type": "code",
        "outputId": "7103d4c8-dbe0-455e-8619-b572dd238877",
        "colab": {
          "base_uri": "https://localhost:8080/",
          "height": 34
        }
      },
      "source": [
        "#percent rows with missing values customer Master or customer demographics data\n",
        "sum(CDataDemo_copy.apply(lambda x: sum(x.isnull().values), axis = 1)>0)/CDataDemo_copy.shape[0]*100"
      ],
      "execution_count": 83,
      "outputs": [
        {
          "output_type": "execute_result",
          "data": {
            "text/plain": [
              "34.25"
            ]
          },
          "metadata": {
            "tags": []
          },
          "execution_count": 83
        }
      ]
    },
    {
      "cell_type": "code",
      "metadata": {
        "id": "tNxGfWaNH3rb",
        "colab_type": "code",
        "outputId": "e5f729c5-56fa-42f5-b1b5-3643bf7b3c91",
        "colab": {
          "base_uri": "https://localhost:8080/",
          "height": 34
        }
      },
      "source": [
        "#percentage of rows with missing values for transaction data\n",
        "sum(TData_copy.apply(lambda x:sum(x.isnull().values),axis=1)>0)/TData_copy.shape[0]*100"
      ],
      "execution_count": 84,
      "outputs": [
        {
          "output_type": "execute_result",
          "data": {
            "text/plain": [
              "5.17947717518533"
            ]
          },
          "metadata": {
            "tags": []
          },
          "execution_count": 84
        }
      ]
    },
    {
      "cell_type": "code",
      "metadata": {
        "id": "P4qVFV-Yu7uG",
        "colab_type": "code",
        "outputId": "30188bac-f30f-4515-e3d5-28359f549c5a",
        "colab": {
          "base_uri": "https://localhost:8080/",
          "height": 238
        }
      },
      "source": [
        "CDataDemo_copy.isnull().sum()"
      ],
      "execution_count": 88,
      "outputs": [
        {
          "output_type": "execute_result",
          "data": {
            "text/plain": [
              "first_name                             0\n",
              "last_name                              0\n",
              "gender                                 0\n",
              "past_3_years_bike_related_purchases    0\n",
              "DOB                                    0\n",
              "job_title                              0\n",
              "job_industry_category                  0\n",
              "wealth_segment                         0\n",
              "deceased_indicator                     0\n",
              "default                                0\n",
              "owns_car                               0\n",
              "tenure                                 0\n",
              "dtype: int64"
            ]
          },
          "metadata": {
            "tags": []
          },
          "execution_count": 88
        }
      ]
    },
    {
      "cell_type": "code",
      "metadata": {
        "id": "FspH-Q8CB2Ol",
        "colab_type": "code",
        "outputId": "4718da92-0dc1-4410-c1be-5074a54e99ac",
        "colab": {
          "base_uri": "https://localhost:8080/",
          "height": 119
        }
      },
      "source": [
        "CData_copy.isnull().sum()"
      ],
      "execution_count": 89,
      "outputs": [
        {
          "output_type": "execute_result",
          "data": {
            "text/plain": [
              "address               0\n",
              "postcode              0\n",
              "state                 0\n",
              "country               0\n",
              "property_valuation    0\n",
              "dtype: int64"
            ]
          },
          "metadata": {
            "tags": []
          },
          "execution_count": 89
        }
      ]
    },
    {
      "cell_type": "code",
      "metadata": {
        "id": "wH4BANEgB_VN",
        "colab_type": "code",
        "outputId": "a395ce6d-a9b5-49b3-cb5c-49b750bbd91c",
        "colab": {
          "base_uri": "https://localhost:8080/",
          "height": 238
        }
      },
      "source": [
        "TData_copy.isnull().sum()"
      ],
      "execution_count": 90,
      "outputs": [
        {
          "output_type": "execute_result",
          "data": {
            "text/plain": [
              "transaction_id             0\n",
              "product_id                 0\n",
              "transaction_date           0\n",
              "online_order               0\n",
              "order_status               0\n",
              "brand                      0\n",
              "product_line               0\n",
              "product_class              0\n",
              "product_size               0\n",
              "list_price                 0\n",
              "standard_cost              0\n",
              "product_first_sold_date    0\n",
              "dtype: int64"
            ]
          },
          "metadata": {
            "tags": []
          },
          "execution_count": 90
        }
      ]
    },
    {
      "cell_type": "code",
      "metadata": {
        "id": "wMsM87IY3keB",
        "colab_type": "code",
        "outputId": "59b2017f-77eb-4c28-a615-75550dded101",
        "colab": {
          "base_uri": "https://localhost:8080/",
          "height": 238
        }
      },
      "source": [
        "CDataDemo_copy['past_3_years_bike_related_purchases']"
      ],
      "execution_count": 91,
      "outputs": [
        {
          "output_type": "execute_result",
          "data": {
            "text/plain": [
              "customer_id\n",
              "1       93\n",
              "2       81\n",
              "3       61\n",
              "9       97\n",
              "10      49\n",
              "        ..\n",
              "3993     6\n",
              "3994     5\n",
              "3995    93\n",
              "3996     8\n",
              "3997    87\n",
              "Name: past_3_years_bike_related_purchases, Length: 2630, dtype: int64"
            ]
          },
          "metadata": {
            "tags": []
          },
          "execution_count": 91
        }
      ]
    },
    {
      "cell_type": "code",
      "metadata": {
        "id": "XKwLpYy-HZwC",
        "colab_type": "code",
        "outputId": "8797e1f0-8c9e-4590-c8f9-e79f86ef74a7",
        "colab": {
          "base_uri": "https://localhost:8080/",
          "height": 306
        }
      },
      "source": [
        "CDataDemo_copy.info()"
      ],
      "execution_count": 92,
      "outputs": [
        {
          "output_type": "stream",
          "text": [
            "<class 'pandas.core.frame.DataFrame'>\n",
            "Int64Index: 2630 entries, 1 to 3997\n",
            "Data columns (total 12 columns):\n",
            "first_name                             2630 non-null object\n",
            "last_name                              2630 non-null object\n",
            "gender                                 2630 non-null object\n",
            "past_3_years_bike_related_purchases    2630 non-null int64\n",
            "DOB                                    2630 non-null object\n",
            "job_title                              2630 non-null object\n",
            "job_industry_category                  2630 non-null object\n",
            "wealth_segment                         2630 non-null object\n",
            "deceased_indicator                     2630 non-null object\n",
            "default                                2630 non-null object\n",
            "owns_car                               2630 non-null object\n",
            "tenure                                 2630 non-null float64\n",
            "dtypes: float64(1), int64(1), object(10)\n",
            "memory usage: 267.1+ KB\n"
          ],
          "name": "stdout"
        }
      ]
    },
    {
      "cell_type": "code",
      "metadata": {
        "id": "Z0xmhfKJvpBU",
        "colab_type": "code",
        "outputId": "9df19c19-3b8f-4dd1-842d-300160ad945a",
        "colab": {
          "base_uri": "https://localhost:8080/",
          "height": 102
        }
      },
      "source": [
        "CDataDemo_copy['gender'].value_counts()"
      ],
      "execution_count": 93,
      "outputs": [
        {
          "output_type": "execute_result",
          "data": {
            "text/plain": [
              "Female    1366\n",
              "Male      1262\n",
              "F            1\n",
              "Femal        1\n",
              "Name: gender, dtype: int64"
            ]
          },
          "metadata": {
            "tags": []
          },
          "execution_count": 93
        }
      ]
    },
    {
      "cell_type": "code",
      "metadata": {
        "id": "h7ik5IPDJETR",
        "colab_type": "code",
        "colab": {}
      },
      "source": [
        "CDataDemo_copy['DOB']=pd.to_datetime(CDataDemo_copy['DOB'])"
      ],
      "execution_count": 0,
      "outputs": []
    },
    {
      "cell_type": "code",
      "metadata": {
        "id": "0Yl-j05l3_In",
        "colab_type": "code",
        "outputId": "78f313a5-c84f-4beb-92b0-813b54f0a053",
        "colab": {
          "base_uri": "https://localhost:8080/",
          "height": 238
        }
      },
      "source": [
        "CDataDemo_copy.dtypes"
      ],
      "execution_count": 95,
      "outputs": [
        {
          "output_type": "execute_result",
          "data": {
            "text/plain": [
              "first_name                                     object\n",
              "last_name                                      object\n",
              "gender                                         object\n",
              "past_3_years_bike_related_purchases             int64\n",
              "DOB                                    datetime64[ns]\n",
              "job_title                                      object\n",
              "job_industry_category                          object\n",
              "wealth_segment                                 object\n",
              "deceased_indicator                             object\n",
              "default                                        object\n",
              "owns_car                                       object\n",
              "tenure                                        float64\n",
              "dtype: object"
            ]
          },
          "metadata": {
            "tags": []
          },
          "execution_count": 95
        }
      ]
    },
    {
      "cell_type": "code",
      "metadata": {
        "id": "Z_mGXs_uv7D5",
        "colab_type": "code",
        "colab": {}
      },
      "source": [
        "def ConvertGender(sex):\n",
        "  Gender={\n",
        "      'Female':'F',\n",
        "      'Femal':'F',\n",
        "      'F':'F',\n",
        "      'Male':'M'}\n",
        "  return Gender[sex]"
      ],
      "execution_count": 0,
      "outputs": []
    },
    {
      "cell_type": "code",
      "metadata": {
        "id": "QXo3Ro0e7sK_",
        "colab_type": "code",
        "outputId": "4a8592e6-38dd-497f-d83f-32d586205a6d",
        "colab": {
          "base_uri": "https://localhost:8080/",
          "height": 54
        }
      },
      "source": [
        "#modifying the customer_demo_data dataframe\n",
        "'''def Cust_demo_modefication(data1,data2):\n",
        "  data1['Age']=(date.today().year)-data2['DOB']\n",
        "  data1['Address']=data2['address']\n",
        "  data1['postcode']=data2['postcode']\n",
        "  data1['property_valuation']=data2['property_valuation']\n",
        "  data1['state']=data2['state']\n",
        "  data1.loc[data1.Sex=='Male','Sex']=data1.loc[data1.Sex=='Male','Sex'].apply(lambda x: x='M')\n",
        "  data1.loc[data1.Sex=='Ms','Sex']=data1.loc[data1.Sex=='Ms','Sex'].apply(lambda x: x='M')\n",
        "  data1.loc[data1.Sex=='Female','Sex']=data1.loc[data1.Sex=='Female','Sex'].apply(lambda x: x='F')\n",
        "  data1.loc[data1.Sex=='Females','Sex']=data1.loc[data1.Sex=='Male','Sex'].apply(lambda x: x='M')\n",
        "  return data1'''"
      ],
      "execution_count": 97,
      "outputs": [
        {
          "output_type": "execute_result",
          "data": {
            "text/plain": [
              "\"def Cust_demo_modefication(data1,data2):\\n  data1['Age']=(date.today().year)-data2['DOB']\\n  data1['Address']=data2['address']\\n  data1['postcode']=data2['postcode']\\n  data1['property_valuation']=data2['property_valuation']\\n  data1['state']=data2['state']\\n  data1.loc[data1.Sex=='Male','Sex']=data1.loc[data1.Sex=='Male','Sex'].apply(lambda x: x='M')\\n  data1.loc[data1.Sex=='Ms','Sex']=data1.loc[data1.Sex=='Ms','Sex'].apply(lambda x: x='M')\\n  data1.loc[data1.Sex=='Female','Sex']=data1.loc[data1.Sex=='Female','Sex'].apply(lambda x: x='F')\\n  data1.loc[data1.Sex=='Females','Sex']=data1.loc[data1.Sex=='Male','Sex'].apply(lambda x: x='M')\\n  return data1\""
            ]
          },
          "metadata": {
            "tags": []
          },
          "execution_count": 97
        }
      ]
    },
    {
      "cell_type": "code",
      "metadata": {
        "id": "30JJRbyEFT_W",
        "colab_type": "code",
        "colab": {}
      },
      "source": [
        "#function for handling year difference\n",
        "#from datetime import date\n",
        "def CalculateYear(year):\n",
        "  today=pd.datetime.today()\n",
        "  age=today.year-year.year\n",
        "  return age\n"
      ],
      "execution_count": 0,
      "outputs": []
    },
    {
      "cell_type": "code",
      "metadata": {
        "id": "zbUlnzD2z2FZ",
        "colab_type": "code",
        "colab": {}
      },
      "source": [
        "#modifying the customer_demo_data dataframe\n",
        "#from datetime import date\n",
        "#import datetime as dt\n",
        "def Cust_demo_modefication(data1,data2):\n",
        "  data1['Age']=data1['DOB'].apply(CalculateYear)\n",
        "  data1['Address']=data2['address']\n",
        "  data1['postcode']=data2['postcode']\n",
        "  data1['property_valuation']=data2['property_valuation']\n",
        "  data1['state']=data2['state']\n",
        "  data1['gender']=data1['gender'].apply(ConvertGender)\n",
        "\n",
        "  return data1"
      ],
      "execution_count": 0,
      "outputs": []
    },
    {
      "cell_type": "code",
      "metadata": {
        "id": "MjVP5n0uG1Dj",
        "colab_type": "code",
        "outputId": "cd81dc5d-4ab2-4a8e-c736-2119ec1a1f9c",
        "colab": {
          "base_uri": "https://localhost:8080/",
          "height": 238
        }
      },
      "source": [
        "CDataDemo_copy['DOB']"
      ],
      "execution_count": 100,
      "outputs": [
        {
          "output_type": "execute_result",
          "data": {
            "text/plain": [
              "customer_id\n",
              "1      1953-10-12\n",
              "2      1980-12-16\n",
              "3      1954-01-20\n",
              "9      1973-03-10\n",
              "10     1988-10-11\n",
              "          ...    \n",
              "3993   1974-12-05\n",
              "3994   1989-04-07\n",
              "3995   1975-12-12\n",
              "3996   1975-08-09\n",
              "3997   2001-07-13\n",
              "Name: DOB, Length: 2630, dtype: datetime64[ns]"
            ]
          },
          "metadata": {
            "tags": []
          },
          "execution_count": 100
        }
      ]
    },
    {
      "cell_type": "code",
      "metadata": {
        "id": "yoh1jU677PRh",
        "colab_type": "code",
        "colab": {}
      },
      "source": [
        "CDataDemo_copy=Cust_demo_modefication(CDataDemo_copy,CData_copy)"
      ],
      "execution_count": 0,
      "outputs": []
    },
    {
      "cell_type": "code",
      "metadata": {
        "id": "iDwLYfj6IyqO",
        "colab_type": "code",
        "colab": {
          "base_uri": "https://localhost:8080/",
          "height": 425
        },
        "outputId": "f390ec58-5fe3-43ef-fbfe-d21b7c1b3c38"
      },
      "source": [
        "CDataDemo_copy.head()"
      ],
      "execution_count": 102,
      "outputs": [
        {
          "output_type": "execute_result",
          "data": {
            "text/html": [
              "<div>\n",
              "<style scoped>\n",
              "    .dataframe tbody tr th:only-of-type {\n",
              "        vertical-align: middle;\n",
              "    }\n",
              "\n",
              "    .dataframe tbody tr th {\n",
              "        vertical-align: top;\n",
              "    }\n",
              "\n",
              "    .dataframe thead th {\n",
              "        text-align: right;\n",
              "    }\n",
              "</style>\n",
              "<table border=\"1\" class=\"dataframe\">\n",
              "  <thead>\n",
              "    <tr style=\"text-align: right;\">\n",
              "      <th></th>\n",
              "      <th>first_name</th>\n",
              "      <th>last_name</th>\n",
              "      <th>gender</th>\n",
              "      <th>past_3_years_bike_related_purchases</th>\n",
              "      <th>DOB</th>\n",
              "      <th>job_title</th>\n",
              "      <th>job_industry_category</th>\n",
              "      <th>wealth_segment</th>\n",
              "      <th>deceased_indicator</th>\n",
              "      <th>default</th>\n",
              "      <th>owns_car</th>\n",
              "      <th>tenure</th>\n",
              "      <th>Age</th>\n",
              "      <th>Address</th>\n",
              "      <th>postcode</th>\n",
              "      <th>property_valuation</th>\n",
              "      <th>state</th>\n",
              "    </tr>\n",
              "    <tr>\n",
              "      <th>customer_id</th>\n",
              "      <th></th>\n",
              "      <th></th>\n",
              "      <th></th>\n",
              "      <th></th>\n",
              "      <th></th>\n",
              "      <th></th>\n",
              "      <th></th>\n",
              "      <th></th>\n",
              "      <th></th>\n",
              "      <th></th>\n",
              "      <th></th>\n",
              "      <th></th>\n",
              "      <th></th>\n",
              "      <th></th>\n",
              "      <th></th>\n",
              "      <th></th>\n",
              "      <th></th>\n",
              "    </tr>\n",
              "  </thead>\n",
              "  <tbody>\n",
              "    <tr>\n",
              "      <th>1</th>\n",
              "      <td>Laraine</td>\n",
              "      <td>Medendorp</td>\n",
              "      <td>F</td>\n",
              "      <td>93</td>\n",
              "      <td>1953-10-12</td>\n",
              "      <td>Executive Secretary</td>\n",
              "      <td>Health</td>\n",
              "      <td>Mass Customer</td>\n",
              "      <td>N</td>\n",
              "      <td>\"'</td>\n",
              "      <td>Yes</td>\n",
              "      <td>11.0</td>\n",
              "      <td>67</td>\n",
              "      <td>060 Morning Avenue</td>\n",
              "      <td>2016.0</td>\n",
              "      <td>10.0</td>\n",
              "      <td>New South Wales</td>\n",
              "    </tr>\n",
              "    <tr>\n",
              "      <th>2</th>\n",
              "      <td>Eli</td>\n",
              "      <td>Bockman</td>\n",
              "      <td>M</td>\n",
              "      <td>81</td>\n",
              "      <td>1980-12-16</td>\n",
              "      <td>Administrative Officer</td>\n",
              "      <td>Financial Services</td>\n",
              "      <td>Mass Customer</td>\n",
              "      <td>N</td>\n",
              "      <td>&lt;script&gt;alert('hi')&lt;/script&gt;</td>\n",
              "      <td>Yes</td>\n",
              "      <td>16.0</td>\n",
              "      <td>40</td>\n",
              "      <td>6 Meadow Vale Court</td>\n",
              "      <td>2153.0</td>\n",
              "      <td>10.0</td>\n",
              "      <td>New South Wales</td>\n",
              "    </tr>\n",
              "    <tr>\n",
              "      <th>3</th>\n",
              "      <td>Arlin</td>\n",
              "      <td>Dearle</td>\n",
              "      <td>M</td>\n",
              "      <td>61</td>\n",
              "      <td>1954-01-20</td>\n",
              "      <td>Recruiting Manager</td>\n",
              "      <td>Property</td>\n",
              "      <td>Mass Customer</td>\n",
              "      <td>N</td>\n",
              "      <td>1-Feb</td>\n",
              "      <td>Yes</td>\n",
              "      <td>15.0</td>\n",
              "      <td>66</td>\n",
              "      <td>NaN</td>\n",
              "      <td>NaN</td>\n",
              "      <td>NaN</td>\n",
              "      <td>NaN</td>\n",
              "    </tr>\n",
              "    <tr>\n",
              "      <th>9</th>\n",
              "      <td>Mala</td>\n",
              "      <td>Lind</td>\n",
              "      <td>F</td>\n",
              "      <td>97</td>\n",
              "      <td>1973-03-10</td>\n",
              "      <td>Business Systems Development Analyst</td>\n",
              "      <td>Argiculture</td>\n",
              "      <td>Affluent Customer</td>\n",
              "      <td>N</td>\n",
              "      <td>0/0</td>\n",
              "      <td>Yes</td>\n",
              "      <td>8.0</td>\n",
              "      <td>47</td>\n",
              "      <td>97736 7th Trail</td>\n",
              "      <td>2023.0</td>\n",
              "      <td>12.0</td>\n",
              "      <td>New South Wales</td>\n",
              "    </tr>\n",
              "    <tr>\n",
              "      <th>10</th>\n",
              "      <td>Fiorenze</td>\n",
              "      <td>Birdall</td>\n",
              "      <td>F</td>\n",
              "      <td>49</td>\n",
              "      <td>1988-10-11</td>\n",
              "      <td>Senior Quality Engineer</td>\n",
              "      <td>Financial Services</td>\n",
              "      <td>Mass Customer</td>\n",
              "      <td>N</td>\n",
              "      <td>ð©ð½</td>\n",
              "      <td>Yes</td>\n",
              "      <td>20.0</td>\n",
              "      <td>32</td>\n",
              "      <td>NaN</td>\n",
              "      <td>NaN</td>\n",
              "      <td>NaN</td>\n",
              "      <td>NaN</td>\n",
              "    </tr>\n",
              "  </tbody>\n",
              "</table>\n",
              "</div>"
            ],
            "text/plain": [
              "            first_name  last_name  ... property_valuation            state\n",
              "customer_id                        ...                                    \n",
              "1              Laraine  Medendorp  ...               10.0  New South Wales\n",
              "2                  Eli    Bockman  ...               10.0  New South Wales\n",
              "3                Arlin     Dearle  ...                NaN              NaN\n",
              "9                 Mala       Lind  ...               12.0  New South Wales\n",
              "10            Fiorenze    Birdall  ...                NaN              NaN\n",
              "\n",
              "[5 rows x 17 columns]"
            ]
          },
          "metadata": {
            "tags": []
          },
          "execution_count": 102
        }
      ]
    },
    {
      "cell_type": "code",
      "metadata": {
        "id": "UPW2Q3Jk9l4G",
        "colab_type": "code",
        "colab": {
          "base_uri": "https://localhost:8080/",
          "height": 323
        },
        "outputId": "4e05e2f0-5c20-47c7-9ea4-871ad84e90af"
      },
      "source": [
        "CDataDemo_copy.isna().sum()"
      ],
      "execution_count": 105,
      "outputs": [
        {
          "output_type": "execute_result",
          "data": {
            "text/plain": [
              "first_name                             0\n",
              "last_name                              0\n",
              "gender                                 0\n",
              "past_3_years_bike_related_purchases    0\n",
              "DOB                                    0\n",
              "job_title                              0\n",
              "job_industry_category                  0\n",
              "wealth_segment                         0\n",
              "deceased_indicator                     0\n",
              "default                                0\n",
              "owns_car                               0\n",
              "tenure                                 0\n",
              "Age                                    0\n",
              "Address                                0\n",
              "postcode                               0\n",
              "property_valuation                     0\n",
              "state                                  0\n",
              "dtype: int64"
            ]
          },
          "metadata": {
            "tags": []
          },
          "execution_count": 105
        }
      ]
    },
    {
      "cell_type": "code",
      "metadata": {
        "id": "9sx0jOdm0G5a",
        "colab_type": "code",
        "colab": {}
      },
      "source": [
        "#dropping null values row\n",
        "CDataDemo_copy=CDataDemo_copy.dropna(how='any',axis=0)"
      ],
      "execution_count": 0,
      "outputs": []
    },
    {
      "cell_type": "code",
      "metadata": {
        "id": "OJSYuCsl7qKj",
        "colab_type": "code",
        "colab": {}
      },
      "source": [
        "CData_copy=CData_copy.dropna(how='any',axis=0)"
      ],
      "execution_count": 0,
      "outputs": []
    },
    {
      "cell_type": "code",
      "metadata": {
        "id": "4MzMz8PNBon6",
        "colab_type": "code",
        "colab": {}
      },
      "source": [
        "TData_copy=TData_copy.dropna(how='any',axis=0)"
      ],
      "execution_count": 0,
      "outputs": []
    },
    {
      "cell_type": "code",
      "metadata": {
        "id": "AJ0KRrx-Aak9",
        "colab_type": "code",
        "colab": {}
      },
      "source": [
        ""
      ],
      "execution_count": 0,
      "outputs": []
    }
  ]
}