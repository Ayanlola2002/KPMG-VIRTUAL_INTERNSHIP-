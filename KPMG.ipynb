{
  "nbformat": 4,
  "nbformat_minor": 0,
  "metadata": {
    "colab": {
      "name": "KPMG.ipynb",
      "provenance": [],
      "collapsed_sections": [],
      "include_colab_link": true
    },
    "kernelspec": {
      "name": "python3",
      "display_name": "Python 3"
    }
  },
  "cells": [
    {
      "cell_type": "markdown",
      "metadata": {
        "id": "view-in-github",
        "colab_type": "text"
      },
      "source": [
        "<a href=\"https://colab.research.google.com/github/Ayanlola2002/KPMG-VIRTUAL_INTERNSHIP-/blob/master/KPMG.ipynb\" target=\"_parent\"><img src=\"https://colab.research.google.com/assets/colab-badge.svg\" alt=\"Open In Colab\"/></a>"
      ]
    },
    {
      "cell_type": "code",
      "metadata": {
        "id": "TQ9zC41rqa_R",
        "colab_type": "code",
        "colab": {}
      },
      "source": [
        "import pandas as pd\n",
        "import numpy as np\n",
        "#modifying the customer_demo_data dataframe\n",
        "from datetime import datetime,date\n",
        "#import datetime as dt\n",
        "from dateutil.relativedelta import relativedelta\n",
        "\n"
      ],
      "execution_count": 0,
      "outputs": []
    },
    {
      "cell_type": "code",
      "metadata": {
        "id": "EIoF04bcH8hm",
        "colab_type": "code",
        "colab": {}
      },
      "source": [
        "Customer_address_data=pd.read_csv(\"Customer_address.csv\")\n",
        "Customer_demo_data=pd.read_csv(\"Customer_Demographics.csv\")\n",
        "Transaction_Data=pd.read_csv(\"Transaction.csv\")\n",
        "CData_copy=Customer_address_data.copy()\n",
        "CDataDemo_copy=Customer_demo_data.copy()\n",
        "TData_copy=Transaction_Data.copy()"
      ],
      "execution_count": 0,
      "outputs": []
    },
    {
      "cell_type": "code",
      "metadata": {
        "id": "_j6ZqFheIlif",
        "colab_type": "code",
        "colab": {}
      },
      "source": [
        "#setting index to customer_id column\n",
        "Customer_address_data.set_index('customer_id',inplace=True)\n",
        "CData_copy.set_index('customer_id',inplace=True)"
      ],
      "execution_count": 0,
      "outputs": []
    },
    {
      "cell_type": "code",
      "metadata": {
        "id": "Nx2tBhgbLB1s",
        "colab_type": "code",
        "colab": {}
      },
      "source": [
        "Customer_demo_data.set_index('customer_id',inplace=True)\n",
        "CDataDemo_copy.set_index('customer_id',inplace=True)"
      ],
      "execution_count": 0,
      "outputs": []
    },
    {
      "cell_type": "code",
      "metadata": {
        "id": "nxCSxw-iLVmH",
        "colab_type": "code",
        "colab": {}
      },
      "source": [
        "Transaction_Data.set_index('transaction_id',inplace=True)\n",
        "TData_copy.set_index('customer_id',inplace=True)"
      ],
      "execution_count": 0,
      "outputs": []
    },
    {
      "cell_type": "code",
      "metadata": {
        "id": "OggnVRxI1yKa",
        "colab_type": "code",
        "colab": {}
      },
      "source": [
        "#important_indexes=Customer_demo_data.index.unique()\n",
        "important_indexes=CDataDemo_copy.index.unique()"
      ],
      "execution_count": 0,
      "outputs": []
    },
    {
      "cell_type": "code",
      "metadata": {
        "id": "JKT9_spO2Xwq",
        "colab_type": "code",
        "outputId": "63ba071b-7fdb-45b7-b032-cb12fd63ec6b",
        "colab": {
          "base_uri": "https://localhost:8080/",
          "height": 255
        }
      },
      "source": [
        "#use customer ID to extract the information from trasaction and customer Address\n",
        "#Customer_address_data=Customer_address_data.loc[important_indexes]  \n",
        "#Transaction_Data=Transaction_Data.loc[important_indexes]\n",
        "\n",
        "CData_copy=CData_copy.loc[important_indexes]  \n",
        "TData_copy=TData_copy.loc[important_indexes]"
      ],
      "execution_count": 0,
      "outputs": [
        {
          "output_type": "stream",
          "text": [
            "/usr/local/lib/python3.6/dist-packages/ipykernel_launcher.py:2: FutureWarning: \n",
            "Passing list-likes to .loc or [] with any missing label will raise\n",
            "KeyError in the future, you can use .reindex() as an alternative.\n",
            "\n",
            "See the documentation here:\n",
            "https://pandas.pydata.org/pandas-docs/stable/user_guide/indexing.html#deprecate-loc-reindex-listlike\n",
            "  \n",
            "/usr/local/lib/python3.6/dist-packages/ipykernel_launcher.py:3: FutureWarning: \n",
            "Passing list-likes to .loc or [] with any missing label will raise\n",
            "KeyError in the future, you can use .reindex() as an alternative.\n",
            "\n",
            "See the documentation here:\n",
            "https://pandas.pydata.org/pandas-docs/stable/user_guide/indexing.html#deprecate-loc-reindex-listlike\n",
            "  This is separate from the ipykernel package so we can avoid doing imports until\n"
          ],
          "name": "stderr"
        }
      ]
    },
    {
      "cell_type": "code",
      "metadata": {
        "id": "GFRgCbF64UkX",
        "colab_type": "code",
        "colab": {}
      },
      "source": [
        "#Customer_demo_data.index=Customer_demo_data.index.astype('int')\n",
        "#Customer_demo_data.sort_index(inplace=True)\n",
        "\n",
        "CDataDemo_copy.index=CDataDemo_copy.index.astype('int')\n",
        "CDataDemo_copy.sort_index(inplace=True)"
      ],
      "execution_count": 0,
      "outputs": []
    },
    {
      "cell_type": "code",
      "metadata": {
        "id": "0yaiJGHf5SFx",
        "colab_type": "code",
        "colab": {}
      },
      "source": [
        "#Transaction_Data.index=Customer_demo_data.index.astype('int')\n",
        "#Transaction_Data.sort_index(inplace=True)\n",
        "\n",
        "TData_copy.index=TData_copy.index.astype('int')\n",
        "TData_copy.sort_index(inplace=True)"
      ],
      "execution_count": 0,
      "outputs": []
    },
    {
      "cell_type": "code",
      "metadata": {
        "id": "BijPO-DELi94",
        "colab_type": "code",
        "outputId": "69589d48-9c39-4b54-dd09-e1b7a3989bd0",
        "colab": {
          "base_uri": "https://localhost:8080/",
          "height": 119
        }
      },
      "source": [
        "#checking Missing value in customer address\n",
        "CData_copy.isnull().sum()"
      ],
      "execution_count": 0,
      "outputs": [
        {
          "output_type": "execute_result",
          "data": {
            "text/plain": [
              "address               4\n",
              "postcode              4\n",
              "state                 4\n",
              "country               4\n",
              "property_valuation    4\n",
              "dtype: int64"
            ]
          },
          "metadata": {
            "tags": []
          },
          "execution_count": 122
        }
      ]
    },
    {
      "cell_type": "code",
      "metadata": {
        "id": "mr--g4vXRAIc",
        "colab_type": "code",
        "outputId": "f9a0e154-9079-4d6c-948b-13c4f01a6826",
        "colab": {
          "base_uri": "https://localhost:8080/",
          "height": 238
        }
      },
      "source": [
        "#checking Missing value in customer address\n",
        "CDataDemo_copy.isnull().sum()"
      ],
      "execution_count": 0,
      "outputs": [
        {
          "output_type": "execute_result",
          "data": {
            "text/plain": [
              "first_name                               0\n",
              "last_name                              125\n",
              "gender                                   0\n",
              "past_3_years_bike_related_purchases      0\n",
              "DOB                                     87\n",
              "job_title                              506\n",
              "job_industry_category                  656\n",
              "wealth_segment                           0\n",
              "deceased_indicator                       0\n",
              "default                                302\n",
              "owns_car                                 0\n",
              "tenure                                  87\n",
              "dtype: int64"
            ]
          },
          "metadata": {
            "tags": []
          },
          "execution_count": 123
        }
      ]
    },
    {
      "cell_type": "code",
      "metadata": {
        "id": "nXzVqvzPRp_v",
        "colab_type": "code",
        "outputId": "ed1965f3-be3a-4656-c035-299c8e0806e0",
        "colab": {
          "base_uri": "https://localhost:8080/",
          "height": 238
        }
      },
      "source": [
        "#checking Missing value in customer address\n",
        "TData_copy.isnull().sum()"
      ],
      "execution_count": 0,
      "outputs": [
        {
          "output_type": "execute_result",
          "data": {
            "text/plain": [
              "transaction_id             507\n",
              "product_id                 507\n",
              "transaction_date           507\n",
              "online_order               867\n",
              "order_status               507\n",
              "brand                      704\n",
              "product_line               704\n",
              "product_class              704\n",
              "product_size               704\n",
              "list_price                 507\n",
              "standard_cost              704\n",
              "product_first_sold_date    704\n",
              "dtype: int64"
            ]
          },
          "metadata": {
            "tags": []
          },
          "execution_count": 124
        }
      ]
    },
    {
      "cell_type": "code",
      "metadata": {
        "id": "40X7OuG5T64k",
        "colab_type": "code",
        "outputId": "39e8de22-cd3c-4d51-b239-f2e68c86c699",
        "colab": {
          "base_uri": "https://localhost:8080/",
          "height": 68
        }
      },
      "source": [
        "#print(Customer_address_data.shape)\n",
        "#print(Customer_demo_data.shape)\n",
        "#print(Transaction_Data.shape)\n",
        "\n",
        "print(CData_copy.shape)\n",
        "print(CDataDemo_copy.shape)\n",
        "print(TData_copy.shape)"
      ],
      "execution_count": 0,
      "outputs": [
        {
          "output_type": "stream",
          "text": [
            "(4000, 5)\n",
            "(4000, 12)\n",
            "(20504, 12)\n"
          ],
          "name": "stdout"
        }
      ]
    },
    {
      "cell_type": "code",
      "metadata": {
        "id": "pRx2lre9Ueu7",
        "colab_type": "code",
        "outputId": "dc5ab57c-c634-4848-f95f-d7f22b5fa707",
        "colab": {
          "base_uri": "https://localhost:8080/",
          "height": 34
        }
      },
      "source": [
        "CDataDemo_copy.index.isin(CData_copy.index).sum()"
      ],
      "execution_count": 0,
      "outputs": [
        {
          "output_type": "execute_result",
          "data": {
            "text/plain": [
              "4000"
            ]
          },
          "metadata": {
            "tags": []
          },
          "execution_count": 126
        }
      ]
    },
    {
      "cell_type": "code",
      "metadata": {
        "id": "ReqcgBKoYciR",
        "colab_type": "code",
        "colab": {}
      },
      "source": [
        "#getting the actual columns\n",
        "DataDiff=pd.merge(CDataDemo_copy,CData_copy,on=\"customer_id\",how='outer',indicator='Exist')\n",
        "DataDiff=DataDiff.loc[DataDiff['Exist'] !='both' ]\n"
      ],
      "execution_count": 0,
      "outputs": []
    },
    {
      "cell_type": "code",
      "metadata": {
        "id": "lUUJwWnkZxcD",
        "colab_type": "code",
        "outputId": "c98d21d2-7bea-44c4-f74b-8c8ec2b5414b",
        "colab": {
          "base_uri": "https://localhost:8080/",
          "height": 100
        }
      },
      "source": [
        "DataDiff"
      ],
      "execution_count": 0,
      "outputs": [
        {
          "output_type": "execute_result",
          "data": {
            "text/html": [
              "<div>\n",
              "<style scoped>\n",
              "    .dataframe tbody tr th:only-of-type {\n",
              "        vertical-align: middle;\n",
              "    }\n",
              "\n",
              "    .dataframe tbody tr th {\n",
              "        vertical-align: top;\n",
              "    }\n",
              "\n",
              "    .dataframe thead th {\n",
              "        text-align: right;\n",
              "    }\n",
              "</style>\n",
              "<table border=\"1\" class=\"dataframe\">\n",
              "  <thead>\n",
              "    <tr style=\"text-align: right;\">\n",
              "      <th></th>\n",
              "      <th>first_name</th>\n",
              "      <th>last_name</th>\n",
              "      <th>gender</th>\n",
              "      <th>past_3_years_bike_related_purchases</th>\n",
              "      <th>DOB</th>\n",
              "      <th>job_title</th>\n",
              "      <th>job_industry_category</th>\n",
              "      <th>wealth_segment</th>\n",
              "      <th>deceased_indicator</th>\n",
              "      <th>default</th>\n",
              "      <th>owns_car</th>\n",
              "      <th>tenure</th>\n",
              "      <th>address</th>\n",
              "      <th>postcode</th>\n",
              "      <th>state</th>\n",
              "      <th>country</th>\n",
              "      <th>property_valuation</th>\n",
              "      <th>Exist</th>\n",
              "    </tr>\n",
              "    <tr>\n",
              "      <th>customer_id</th>\n",
              "      <th></th>\n",
              "      <th></th>\n",
              "      <th></th>\n",
              "      <th></th>\n",
              "      <th></th>\n",
              "      <th></th>\n",
              "      <th></th>\n",
              "      <th></th>\n",
              "      <th></th>\n",
              "      <th></th>\n",
              "      <th></th>\n",
              "      <th></th>\n",
              "      <th></th>\n",
              "      <th></th>\n",
              "      <th></th>\n",
              "      <th></th>\n",
              "      <th></th>\n",
              "      <th></th>\n",
              "    </tr>\n",
              "  </thead>\n",
              "  <tbody>\n",
              "  </tbody>\n",
              "</table>\n",
              "</div>"
            ],
            "text/plain": [
              "Empty DataFrame\n",
              "Columns: [first_name, last_name, gender, past_3_years_bike_related_purchases, DOB, job_title, job_industry_category, wealth_segment, deceased_indicator, default, owns_car, tenure, address, postcode, state, country, property_valuation, Exist]\n",
              "Index: []"
            ]
          },
          "metadata": {
            "tags": []
          },
          "execution_count": 128
        }
      ]
    },
    {
      "cell_type": "code",
      "metadata": {
        "id": "YC5bV84P8QQd",
        "colab_type": "code",
        "outputId": "65a8f73d-1fc7-4108-a574-41beb6f49425",
        "colab": {
          "base_uri": "https://localhost:8080/",
          "height": 68
        }
      },
      "source": [
        "#checking the number of distinct customer_id in the three dataset\n",
        "print(CData_copy.index.nunique())\n",
        "print(CDataDemo_copy.index.nunique())\n",
        "print(TData_copy.index.nunique())"
      ],
      "execution_count": 0,
      "outputs": [
        {
          "output_type": "stream",
          "text": [
            "4000\n",
            "4000\n",
            "4000\n"
          ],
          "name": "stdout"
        }
      ]
    },
    {
      "cell_type": "code",
      "metadata": {
        "id": "acdG-ccZ9JMy",
        "colab_type": "code",
        "outputId": "63a12b51-cb82-4ef1-e1ec-7deeb7146f74",
        "colab": {
          "base_uri": "https://localhost:8080/",
          "height": 297
        }
      },
      "source": [
        "#customer address summary statistics\n",
        "CData_copy.describe()"
      ],
      "execution_count": 0,
      "outputs": [
        {
          "output_type": "execute_result",
          "data": {
            "text/html": [
              "<div>\n",
              "<style scoped>\n",
              "    .dataframe tbody tr th:only-of-type {\n",
              "        vertical-align: middle;\n",
              "    }\n",
              "\n",
              "    .dataframe tbody tr th {\n",
              "        vertical-align: top;\n",
              "    }\n",
              "\n",
              "    .dataframe thead th {\n",
              "        text-align: right;\n",
              "    }\n",
              "</style>\n",
              "<table border=\"1\" class=\"dataframe\">\n",
              "  <thead>\n",
              "    <tr style=\"text-align: right;\">\n",
              "      <th></th>\n",
              "      <th>postcode</th>\n",
              "      <th>property_valuation</th>\n",
              "    </tr>\n",
              "  </thead>\n",
              "  <tbody>\n",
              "    <tr>\n",
              "      <th>count</th>\n",
              "      <td>3996.000000</td>\n",
              "      <td>3996.000000</td>\n",
              "    </tr>\n",
              "    <tr>\n",
              "      <th>mean</th>\n",
              "      <td>2985.735485</td>\n",
              "      <td>7.514014</td>\n",
              "    </tr>\n",
              "    <tr>\n",
              "      <th>std</th>\n",
              "      <td>844.945641</td>\n",
              "      <td>2.825426</td>\n",
              "    </tr>\n",
              "    <tr>\n",
              "      <th>min</th>\n",
              "      <td>2000.000000</td>\n",
              "      <td>1.000000</td>\n",
              "    </tr>\n",
              "    <tr>\n",
              "      <th>25%</th>\n",
              "      <td>2200.000000</td>\n",
              "      <td>6.000000</td>\n",
              "    </tr>\n",
              "    <tr>\n",
              "      <th>50%</th>\n",
              "      <td>2768.000000</td>\n",
              "      <td>8.000000</td>\n",
              "    </tr>\n",
              "    <tr>\n",
              "      <th>75%</th>\n",
              "      <td>3750.000000</td>\n",
              "      <td>10.000000</td>\n",
              "    </tr>\n",
              "    <tr>\n",
              "      <th>max</th>\n",
              "      <td>4883.000000</td>\n",
              "      <td>12.000000</td>\n",
              "    </tr>\n",
              "  </tbody>\n",
              "</table>\n",
              "</div>"
            ],
            "text/plain": [
              "          postcode  property_valuation\n",
              "count  3996.000000         3996.000000\n",
              "mean   2985.735485            7.514014\n",
              "std     844.945641            2.825426\n",
              "min    2000.000000            1.000000\n",
              "25%    2200.000000            6.000000\n",
              "50%    2768.000000            8.000000\n",
              "75%    3750.000000           10.000000\n",
              "max    4883.000000           12.000000"
            ]
          },
          "metadata": {
            "tags": []
          },
          "execution_count": 130
        }
      ]
    },
    {
      "cell_type": "code",
      "metadata": {
        "id": "WCUFVVP_-DVg",
        "colab_type": "code",
        "outputId": "038062f4-4e21-4a41-e01f-d7fef703151a",
        "colab": {
          "base_uri": "https://localhost:8080/",
          "height": 297
        }
      },
      "source": [
        "CDataDemo_copy.describe()"
      ],
      "execution_count": 0,
      "outputs": [
        {
          "output_type": "execute_result",
          "data": {
            "text/html": [
              "<div>\n",
              "<style scoped>\n",
              "    .dataframe tbody tr th:only-of-type {\n",
              "        vertical-align: middle;\n",
              "    }\n",
              "\n",
              "    .dataframe tbody tr th {\n",
              "        vertical-align: top;\n",
              "    }\n",
              "\n",
              "    .dataframe thead th {\n",
              "        text-align: right;\n",
              "    }\n",
              "</style>\n",
              "<table border=\"1\" class=\"dataframe\">\n",
              "  <thead>\n",
              "    <tr style=\"text-align: right;\">\n",
              "      <th></th>\n",
              "      <th>past_3_years_bike_related_purchases</th>\n",
              "      <th>tenure</th>\n",
              "    </tr>\n",
              "  </thead>\n",
              "  <tbody>\n",
              "    <tr>\n",
              "      <th>count</th>\n",
              "      <td>4000.000000</td>\n",
              "      <td>3913.000000</td>\n",
              "    </tr>\n",
              "    <tr>\n",
              "      <th>mean</th>\n",
              "      <td>48.890000</td>\n",
              "      <td>10.657041</td>\n",
              "    </tr>\n",
              "    <tr>\n",
              "      <th>std</th>\n",
              "      <td>28.715005</td>\n",
              "      <td>5.660146</td>\n",
              "    </tr>\n",
              "    <tr>\n",
              "      <th>min</th>\n",
              "      <td>0.000000</td>\n",
              "      <td>1.000000</td>\n",
              "    </tr>\n",
              "    <tr>\n",
              "      <th>25%</th>\n",
              "      <td>24.000000</td>\n",
              "      <td>6.000000</td>\n",
              "    </tr>\n",
              "    <tr>\n",
              "      <th>50%</th>\n",
              "      <td>48.000000</td>\n",
              "      <td>11.000000</td>\n",
              "    </tr>\n",
              "    <tr>\n",
              "      <th>75%</th>\n",
              "      <td>73.000000</td>\n",
              "      <td>15.000000</td>\n",
              "    </tr>\n",
              "    <tr>\n",
              "      <th>max</th>\n",
              "      <td>99.000000</td>\n",
              "      <td>22.000000</td>\n",
              "    </tr>\n",
              "  </tbody>\n",
              "</table>\n",
              "</div>"
            ],
            "text/plain": [
              "       past_3_years_bike_related_purchases       tenure\n",
              "count                          4000.000000  3913.000000\n",
              "mean                             48.890000    10.657041\n",
              "std                              28.715005     5.660146\n",
              "min                               0.000000     1.000000\n",
              "25%                              24.000000     6.000000\n",
              "50%                              48.000000    11.000000\n",
              "75%                              73.000000    15.000000\n",
              "max                              99.000000    22.000000"
            ]
          },
          "metadata": {
            "tags": []
          },
          "execution_count": 131
        }
      ]
    },
    {
      "cell_type": "code",
      "metadata": {
        "id": "1iC-n8m4-Jsu",
        "colab_type": "code",
        "outputId": "d163259f-f2ed-42fd-d525-4ca246c63971",
        "colab": {
          "base_uri": "https://localhost:8080/",
          "height": 297
        }
      },
      "source": [
        "TData_copy.describe()"
      ],
      "execution_count": 0,
      "outputs": [
        {
          "output_type": "execute_result",
          "data": {
            "text/html": [
              "<div>\n",
              "<style scoped>\n",
              "    .dataframe tbody tr th:only-of-type {\n",
              "        vertical-align: middle;\n",
              "    }\n",
              "\n",
              "    .dataframe tbody tr th {\n",
              "        vertical-align: top;\n",
              "    }\n",
              "\n",
              "    .dataframe thead th {\n",
              "        text-align: right;\n",
              "    }\n",
              "</style>\n",
              "<table border=\"1\" class=\"dataframe\">\n",
              "  <thead>\n",
              "    <tr style=\"text-align: right;\">\n",
              "      <th></th>\n",
              "      <th>transaction_id</th>\n",
              "      <th>product_id</th>\n",
              "      <th>online_order</th>\n",
              "      <th>list_price</th>\n",
              "      <th>product_first_sold_date</th>\n",
              "    </tr>\n",
              "  </thead>\n",
              "  <tbody>\n",
              "    <tr>\n",
              "      <th>count</th>\n",
              "      <td>19997.000000</td>\n",
              "      <td>19997.000000</td>\n",
              "      <td>19637.000000</td>\n",
              "      <td>19997.000000</td>\n",
              "      <td>19800.000000</td>\n",
              "    </tr>\n",
              "    <tr>\n",
              "      <th>mean</th>\n",
              "      <td>9999.856078</td>\n",
              "      <td>45.371456</td>\n",
              "      <td>0.500535</td>\n",
              "      <td>1107.919641</td>\n",
              "      <td>38199.919747</td>\n",
              "    </tr>\n",
              "    <tr>\n",
              "      <th>std</th>\n",
              "      <td>5773.636854</td>\n",
              "      <td>30.750876</td>\n",
              "      <td>0.500012</td>\n",
              "      <td>582.818787</td>\n",
              "      <td>2875.056794</td>\n",
              "    </tr>\n",
              "    <tr>\n",
              "      <th>min</th>\n",
              "      <td>1.000000</td>\n",
              "      <td>0.000000</td>\n",
              "      <td>0.000000</td>\n",
              "      <td>12.010000</td>\n",
              "      <td>33259.000000</td>\n",
              "    </tr>\n",
              "    <tr>\n",
              "      <th>25%</th>\n",
              "      <td>5000.000000</td>\n",
              "      <td>18.000000</td>\n",
              "      <td>0.000000</td>\n",
              "      <td>575.270000</td>\n",
              "      <td>35667.000000</td>\n",
              "    </tr>\n",
              "    <tr>\n",
              "      <th>50%</th>\n",
              "      <td>10000.000000</td>\n",
              "      <td>44.000000</td>\n",
              "      <td>1.000000</td>\n",
              "      <td>1163.890000</td>\n",
              "      <td>38216.000000</td>\n",
              "    </tr>\n",
              "    <tr>\n",
              "      <th>75%</th>\n",
              "      <td>14999.000000</td>\n",
              "      <td>72.000000</td>\n",
              "      <td>1.000000</td>\n",
              "      <td>1635.300000</td>\n",
              "      <td>40672.000000</td>\n",
              "    </tr>\n",
              "    <tr>\n",
              "      <th>max</th>\n",
              "      <td>20000.000000</td>\n",
              "      <td>100.000000</td>\n",
              "      <td>1.000000</td>\n",
              "      <td>2091.470000</td>\n",
              "      <td>42710.000000</td>\n",
              "    </tr>\n",
              "  </tbody>\n",
              "</table>\n",
              "</div>"
            ],
            "text/plain": [
              "       transaction_id    product_id  ...    list_price  product_first_sold_date\n",
              "count    19997.000000  19997.000000  ...  19997.000000             19800.000000\n",
              "mean      9999.856078     45.371456  ...   1107.919641             38199.919747\n",
              "std       5773.636854     30.750876  ...    582.818787              2875.056794\n",
              "min          1.000000      0.000000  ...     12.010000             33259.000000\n",
              "25%       5000.000000     18.000000  ...    575.270000             35667.000000\n",
              "50%      10000.000000     44.000000  ...   1163.890000             38216.000000\n",
              "75%      14999.000000     72.000000  ...   1635.300000             40672.000000\n",
              "max      20000.000000    100.000000  ...   2091.470000             42710.000000\n",
              "\n",
              "[8 rows x 5 columns]"
            ]
          },
          "metadata": {
            "tags": []
          },
          "execution_count": 132
        }
      ]
    },
    {
      "cell_type": "code",
      "metadata": {
        "id": "2WMtZ9-vCAEr",
        "colab_type": "code",
        "outputId": "287b103d-5b2a-4763-d5aa-de110a100abd",
        "colab": {
          "base_uri": "https://localhost:8080/",
          "height": 119
        }
      },
      "source": [
        "#calculating perfcent of missing values\n",
        "CData_copy.isnull().mean()*100"
      ],
      "execution_count": 0,
      "outputs": [
        {
          "output_type": "execute_result",
          "data": {
            "text/plain": [
              "address               0.1\n",
              "postcode              0.1\n",
              "state                 0.1\n",
              "country               0.1\n",
              "property_valuation    0.1\n",
              "dtype: float64"
            ]
          },
          "metadata": {
            "tags": []
          },
          "execution_count": 133
        }
      ]
    },
    {
      "cell_type": "code",
      "metadata": {
        "id": "qG0kgx_RCTpu",
        "colab_type": "code",
        "outputId": "dbd65d84-bfdf-481e-8d3f-6ce131a22be4",
        "colab": {
          "base_uri": "https://localhost:8080/",
          "height": 238
        }
      },
      "source": [
        "CDataDemo_copy.isnull().mean()*100"
      ],
      "execution_count": 0,
      "outputs": [
        {
          "output_type": "execute_result",
          "data": {
            "text/plain": [
              "first_name                              0.000\n",
              "last_name                               3.125\n",
              "gender                                  0.000\n",
              "past_3_years_bike_related_purchases     0.000\n",
              "DOB                                     2.175\n",
              "job_title                              12.650\n",
              "job_industry_category                  16.400\n",
              "wealth_segment                          0.000\n",
              "deceased_indicator                      0.000\n",
              "default                                 7.550\n",
              "owns_car                                0.000\n",
              "tenure                                  2.175\n",
              "dtype: float64"
            ]
          },
          "metadata": {
            "tags": []
          },
          "execution_count": 134
        }
      ]
    },
    {
      "cell_type": "code",
      "metadata": {
        "id": "3TeKQEu_CdPI",
        "colab_type": "code",
        "outputId": "c3a015e2-46aa-4e69-dccd-99c409e2a045",
        "colab": {
          "base_uri": "https://localhost:8080/",
          "height": 238
        }
      },
      "source": [
        "TData_copy.isnull().mean()*100"
      ],
      "execution_count": 0,
      "outputs": [
        {
          "output_type": "execute_result",
          "data": {
            "text/plain": [
              "transaction_id             2.472688\n",
              "product_id                 2.472688\n",
              "transaction_date           2.472688\n",
              "online_order               4.228443\n",
              "order_status               2.472688\n",
              "brand                      3.433476\n",
              "product_line               3.433476\n",
              "product_class              3.433476\n",
              "product_size               3.433476\n",
              "list_price                 2.472688\n",
              "standard_cost              3.433476\n",
              "product_first_sold_date    3.433476\n",
              "dtype: float64"
            ]
          },
          "metadata": {
            "tags": []
          },
          "execution_count": 135
        }
      ]
    },
    {
      "cell_type": "code",
      "metadata": {
        "id": "AccXOsX4FPD2",
        "colab_type": "code",
        "outputId": "b27577eb-4406-4aec-b494-88c5ddf0cfba",
        "colab": {
          "base_uri": "https://localhost:8080/",
          "height": 34
        }
      },
      "source": [
        "#rows with null values for Customer address\n",
        "CData_copy.isnull().any(axis=0).sum()"
      ],
      "execution_count": 0,
      "outputs": [
        {
          "output_type": "execute_result",
          "data": {
            "text/plain": [
              "5"
            ]
          },
          "metadata": {
            "tags": []
          },
          "execution_count": 136
        }
      ]
    },
    {
      "cell_type": "code",
      "metadata": {
        "id": "Jq5hOnrnFjmX",
        "colab_type": "code",
        "outputId": "bd3081a1-2e64-464b-a117-8fcf1976ca8f",
        "colab": {
          "base_uri": "https://localhost:8080/",
          "height": 34
        }
      },
      "source": [
        "#percent rows with missing values customer Master or customer demographics data\n",
        "sum(CDataDemo_copy.apply(lambda x: sum(x.isnull().values), axis = 1)>0)/CDataDemo_copy.shape[0]*100"
      ],
      "execution_count": 0,
      "outputs": [
        {
          "output_type": "execute_result",
          "data": {
            "text/plain": [
              "34.25"
            ]
          },
          "metadata": {
            "tags": []
          },
          "execution_count": 137
        }
      ]
    },
    {
      "cell_type": "code",
      "metadata": {
        "id": "tNxGfWaNH3rb",
        "colab_type": "code",
        "outputId": "0fdca5aa-9299-4563-e9ba-d77879362d68",
        "colab": {
          "base_uri": "https://localhost:8080/",
          "height": 34
        }
      },
      "source": [
        "#percentage of rows with missing values for transaction data\n",
        "sum(TData_copy.apply(lambda x:sum(x.isnull().values),axis=1)>0)/TData_copy.shape[0]*100"
      ],
      "execution_count": 0,
      "outputs": [
        {
          "output_type": "execute_result",
          "data": {
            "text/plain": [
              "5.17947717518533"
            ]
          },
          "metadata": {
            "tags": []
          },
          "execution_count": 138
        }
      ]
    },
    {
      "cell_type": "code",
      "metadata": {
        "id": "9sx0jOdm0G5a",
        "colab_type": "code",
        "colab": {}
      },
      "source": [
        "#dropping null values row\n",
        "CDataDemo_copy=CDataDemo_copy.dropna(how='any',axis=0)"
      ],
      "execution_count": 0,
      "outputs": []
    },
    {
      "cell_type": "code",
      "metadata": {
        "id": "OJSYuCsl7qKj",
        "colab_type": "code",
        "colab": {}
      },
      "source": [
        "CData_copy=CData_copy.dropna(how='any',axis=0)"
      ],
      "execution_count": 0,
      "outputs": []
    },
    {
      "cell_type": "code",
      "metadata": {
        "id": "4MzMz8PNBon6",
        "colab_type": "code",
        "colab": {}
      },
      "source": [
        "TData_copy=TData_copy.dropna(how='any',axis=0)"
      ],
      "execution_count": 0,
      "outputs": []
    },
    {
      "cell_type": "code",
      "metadata": {
        "id": "P4qVFV-Yu7uG",
        "colab_type": "code",
        "outputId": "bbb5c9ad-16df-4923-e075-ea27ffc4d104",
        "colab": {
          "base_uri": "https://localhost:8080/",
          "height": 238
        }
      },
      "source": [
        "CDataDemo_copy.isnull().sum()"
      ],
      "execution_count": 0,
      "outputs": [
        {
          "output_type": "execute_result",
          "data": {
            "text/plain": [
              "first_name                             0\n",
              "last_name                              0\n",
              "gender                                 0\n",
              "past_3_years_bike_related_purchases    0\n",
              "DOB                                    0\n",
              "job_title                              0\n",
              "job_industry_category                  0\n",
              "wealth_segment                         0\n",
              "deceased_indicator                     0\n",
              "default                                0\n",
              "owns_car                               0\n",
              "tenure                                 0\n",
              "dtype: int64"
            ]
          },
          "metadata": {
            "tags": []
          },
          "execution_count": 142
        }
      ]
    },
    {
      "cell_type": "code",
      "metadata": {
        "id": "FspH-Q8CB2Ol",
        "colab_type": "code",
        "outputId": "78c51dfc-530d-4d3c-fea6-b724788535e9",
        "colab": {
          "base_uri": "https://localhost:8080/",
          "height": 119
        }
      },
      "source": [
        "CData_copy.isnull().sum()"
      ],
      "execution_count": 0,
      "outputs": [
        {
          "output_type": "execute_result",
          "data": {
            "text/plain": [
              "address               0\n",
              "postcode              0\n",
              "state                 0\n",
              "country               0\n",
              "property_valuation    0\n",
              "dtype: int64"
            ]
          },
          "metadata": {
            "tags": []
          },
          "execution_count": 143
        }
      ]
    },
    {
      "cell_type": "code",
      "metadata": {
        "id": "wH4BANEgB_VN",
        "colab_type": "code",
        "outputId": "98ac124c-896f-4bad-f985-0b8895d9a47b",
        "colab": {
          "base_uri": "https://localhost:8080/",
          "height": 238
        }
      },
      "source": [
        "TData_copy.isnull().sum()"
      ],
      "execution_count": 0,
      "outputs": [
        {
          "output_type": "execute_result",
          "data": {
            "text/plain": [
              "transaction_id             0\n",
              "product_id                 0\n",
              "transaction_date           0\n",
              "online_order               0\n",
              "order_status               0\n",
              "brand                      0\n",
              "product_line               0\n",
              "product_class              0\n",
              "product_size               0\n",
              "list_price                 0\n",
              "standard_cost              0\n",
              "product_first_sold_date    0\n",
              "dtype: int64"
            ]
          },
          "metadata": {
            "tags": []
          },
          "execution_count": 144
        }
      ]
    },
    {
      "cell_type": "code",
      "metadata": {
        "id": "wMsM87IY3keB",
        "colab_type": "code",
        "outputId": "2526c42c-3d88-45ab-9c5e-c7db89e9f19c",
        "colab": {
          "base_uri": "https://localhost:8080/",
          "height": 238
        }
      },
      "source": [
        "CDataDemo_copy['past_3_years_bike_related_purchases']"
      ],
      "execution_count": 0,
      "outputs": [
        {
          "output_type": "execute_result",
          "data": {
            "text/plain": [
              "customer_id\n",
              "1       93\n",
              "2       81\n",
              "3       61\n",
              "9       97\n",
              "10      49\n",
              "        ..\n",
              "3993     6\n",
              "3994     5\n",
              "3995    93\n",
              "3996     8\n",
              "3997    87\n",
              "Name: past_3_years_bike_related_purchases, Length: 2630, dtype: int64"
            ]
          },
          "metadata": {
            "tags": []
          },
          "execution_count": 145
        }
      ]
    },
    {
      "cell_type": "code",
      "metadata": {
        "id": "XKwLpYy-HZwC",
        "colab_type": "code",
        "outputId": "cfa7f4de-9404-4689-84ac-51f67ba3222e",
        "colab": {
          "base_uri": "https://localhost:8080/",
          "height": 306
        }
      },
      "source": [
        "CDataDemo_copy.info()"
      ],
      "execution_count": 0,
      "outputs": [
        {
          "output_type": "stream",
          "text": [
            "<class 'pandas.core.frame.DataFrame'>\n",
            "Int64Index: 2630 entries, 1 to 3997\n",
            "Data columns (total 12 columns):\n",
            "first_name                             2630 non-null object\n",
            "last_name                              2630 non-null object\n",
            "gender                                 2630 non-null object\n",
            "past_3_years_bike_related_purchases    2630 non-null int64\n",
            "DOB                                    2630 non-null object\n",
            "job_title                              2630 non-null object\n",
            "job_industry_category                  2630 non-null object\n",
            "wealth_segment                         2630 non-null object\n",
            "deceased_indicator                     2630 non-null object\n",
            "default                                2630 non-null object\n",
            "owns_car                               2630 non-null object\n",
            "tenure                                 2630 non-null float64\n",
            "dtypes: float64(1), int64(1), object(10)\n",
            "memory usage: 267.1+ KB\n"
          ],
          "name": "stdout"
        }
      ]
    },
    {
      "cell_type": "code",
      "metadata": {
        "id": "Z0xmhfKJvpBU",
        "colab_type": "code",
        "outputId": "2a3b386b-20e2-47ab-8422-546e8bee8cc1",
        "colab": {
          "base_uri": "https://localhost:8080/",
          "height": 102
        }
      },
      "source": [
        "CDataDemo_copy['gender'].value_counts()"
      ],
      "execution_count": 0,
      "outputs": [
        {
          "output_type": "execute_result",
          "data": {
            "text/plain": [
              "Female    1366\n",
              "Male      1262\n",
              "F            1\n",
              "Femal        1\n",
              "Name: gender, dtype: int64"
            ]
          },
          "metadata": {
            "tags": []
          },
          "execution_count": 147
        }
      ]
    },
    {
      "cell_type": "code",
      "metadata": {
        "id": "h7ik5IPDJETR",
        "colab_type": "code",
        "colab": {}
      },
      "source": [
        "CDataDemo_copy['DOB']=pd.to_datetime(CDataDemo_copy['DOB'])"
      ],
      "execution_count": 0,
      "outputs": []
    },
    {
      "cell_type": "code",
      "metadata": {
        "id": "0Yl-j05l3_In",
        "colab_type": "code",
        "outputId": "afdbb40c-3ca5-4497-d756-6394ff847274",
        "colab": {
          "base_uri": "https://localhost:8080/",
          "height": 238
        }
      },
      "source": [
        "CDataDemo_copy.dtypes"
      ],
      "execution_count": 0,
      "outputs": [
        {
          "output_type": "execute_result",
          "data": {
            "text/plain": [
              "first_name                                     object\n",
              "last_name                                      object\n",
              "gender                                         object\n",
              "past_3_years_bike_related_purchases             int64\n",
              "DOB                                    datetime64[ns]\n",
              "job_title                                      object\n",
              "job_industry_category                          object\n",
              "wealth_segment                                 object\n",
              "deceased_indicator                             object\n",
              "default                                        object\n",
              "owns_car                                       object\n",
              "tenure                                        float64\n",
              "dtype: object"
            ]
          },
          "metadata": {
            "tags": []
          },
          "execution_count": 149
        }
      ]
    },
    {
      "cell_type": "code",
      "metadata": {
        "id": "Z_mGXs_uv7D5",
        "colab_type": "code",
        "colab": {}
      },
      "source": [
        "def ConvertGender(sex):\n",
        "  Gender={\n",
        "      'Female':'F',\n",
        "      'Femal':'F',\n",
        "      'F':'F',\n",
        "      'Male':'M'}\n",
        "  return Gender[sex]"
      ],
      "execution_count": 0,
      "outputs": []
    },
    {
      "cell_type": "code",
      "metadata": {
        "id": "QXo3Ro0e7sK_",
        "colab_type": "code",
        "outputId": "1a196c2f-bfcd-47ff-d7f9-f783f83fb1c0",
        "colab": {
          "base_uri": "https://localhost:8080/",
          "height": 54
        }
      },
      "source": [
        "#modifying the customer_demo_data dataframe\n",
        "'''def Cust_demo_modefication(data1,data2):\n",
        "  data1['Age']=(date.today().year)-data2['DOB']\n",
        "  data1['Address']=data2['address']\n",
        "  data1['postcode']=data2['postcode']\n",
        "  data1['property_valuation']=data2['property_valuation']\n",
        "  data1['state']=data2['state']\n",
        "  data1.loc[data1.Sex=='Male','Sex']=data1.loc[data1.Sex=='Male','Sex'].apply(lambda x: x='M')\n",
        "  data1.loc[data1.Sex=='Ms','Sex']=data1.loc[data1.Sex=='Ms','Sex'].apply(lambda x: x='M')\n",
        "  data1.loc[data1.Sex=='Female','Sex']=data1.loc[data1.Sex=='Female','Sex'].apply(lambda x: x='F')\n",
        "  data1.loc[data1.Sex=='Females','Sex']=data1.loc[data1.Sex=='Male','Sex'].apply(lambda x: x='M')\n",
        "  return data1'''"
      ],
      "execution_count": 0,
      "outputs": [
        {
          "output_type": "execute_result",
          "data": {
            "text/plain": [
              "\"def Cust_demo_modefication(data1,data2):\\n  data1['Age']=(date.today().year)-data2['DOB']\\n  data1['Address']=data2['address']\\n  data1['postcode']=data2['postcode']\\n  data1['property_valuation']=data2['property_valuation']\\n  data1['state']=data2['state']\\n  data1.loc[data1.Sex=='Male','Sex']=data1.loc[data1.Sex=='Male','Sex'].apply(lambda x: x='M')\\n  data1.loc[data1.Sex=='Ms','Sex']=data1.loc[data1.Sex=='Ms','Sex'].apply(lambda x: x='M')\\n  data1.loc[data1.Sex=='Female','Sex']=data1.loc[data1.Sex=='Female','Sex'].apply(lambda x: x='F')\\n  data1.loc[data1.Sex=='Females','Sex']=data1.loc[data1.Sex=='Male','Sex'].apply(lambda x: x='M')\\n  return data1\""
            ]
          },
          "metadata": {
            "tags": []
          },
          "execution_count": 90
        }
      ]
    },
    {
      "cell_type": "code",
      "metadata": {
        "id": "30JJRbyEFT_W",
        "colab_type": "code",
        "colab": {}
      },
      "source": [
        "#function for handling year difference\n",
        "#from datetime import date\n",
        "def CalculateYear(year):\n",
        "  today=datetime.today()\n",
        "  age=today.year-year\n",
        "  return age\n"
      ],
      "execution_count": 0,
      "outputs": []
    },
    {
      "cell_type": "code",
      "metadata": {
        "id": "zbUlnzD2z2FZ",
        "colab_type": "code",
        "colab": {}
      },
      "source": [
        "#modifying the customer_demo_data dataframe\n",
        "#from datetime import date\n",
        "#import datetime as dt\n",
        "def Cust_demo_modefication(data1,data2):\n",
        "  data1['Age']=data1['DOB'].apply(CalculateYear)\n",
        "  data1['Address']=data2['address']\n",
        "  data1['postcode']=data2['postcode']\n",
        "  data1['property_valuation']=data2['property_valuation']\n",
        "  data1['state']=data2['state']\n",
        "  data1['gender']=data1['gender'].apply(ConvertGender)\n",
        "\n",
        "  return data1"
      ],
      "execution_count": 0,
      "outputs": []
    },
    {
      "cell_type": "code",
      "metadata": {
        "id": "MjVP5n0uG1Dj",
        "colab_type": "code",
        "outputId": "53f08745-c172-4319-8b48-b80cf4ca354e",
        "colab": {
          "base_uri": "https://localhost:8080/",
          "height": 238
        }
      },
      "source": [
        "CDataDemo_copy['DOB']"
      ],
      "execution_count": 0,
      "outputs": [
        {
          "output_type": "execute_result",
          "data": {
            "text/plain": [
              "customer_id\n",
              "1      1953-10-12\n",
              "2      1980-12-16\n",
              "3      1954-01-20\n",
              "9      1973-03-10\n",
              "10     1988-10-11\n",
              "          ...    \n",
              "3993   1974-12-05\n",
              "3994   1989-04-07\n",
              "3995   1975-12-12\n",
              "3996   1975-08-09\n",
              "3997   2001-07-13\n",
              "Name: DOB, Length: 2630, dtype: datetime64[ns]"
            ]
          },
          "metadata": {
            "tags": []
          },
          "execution_count": 169
        }
      ]
    },
    {
      "cell_type": "code",
      "metadata": {
        "id": "yoh1jU677PRh",
        "colab_type": "code",
        "outputId": "6c95c4d4-92e7-4e80-a0f2-392128bd3cbd",
        "colab": {
          "base_uri": "https://localhost:8080/",
          "height": 357
        }
      },
      "source": [
        "CDataDemo_copy=Cust_demo_modefication(CDataDemo_copy,CData_copy)"
      ],
      "execution_count": 0,
      "outputs": [
        {
          "output_type": "error",
          "ename": "TypeError",
          "evalue": "ignored",
          "traceback": [
            "\u001b[0;31m---------------------------------------------------------------------------\u001b[0m",
            "\u001b[0;31mTypeError\u001b[0m                                 Traceback (most recent call last)",
            "\u001b[0;32m<ipython-input-170-61dcd00834ec>\u001b[0m in \u001b[0;36m<module>\u001b[0;34m()\u001b[0m\n\u001b[0;32m----> 1\u001b[0;31m \u001b[0mCDataDemo_copy\u001b[0m\u001b[0;34m=\u001b[0m\u001b[0mCust_demo_modefication\u001b[0m\u001b[0;34m(\u001b[0m\u001b[0mCDataDemo_copy\u001b[0m\u001b[0;34m,\u001b[0m\u001b[0mCData_copy\u001b[0m\u001b[0;34m)\u001b[0m\u001b[0;34m\u001b[0m\u001b[0;34m\u001b[0m\u001b[0m\n\u001b[0m",
            "\u001b[0;32m<ipython-input-168-03f6aec00559>\u001b[0m in \u001b[0;36mCust_demo_modefication\u001b[0;34m(data1, data2)\u001b[0m\n\u001b[1;32m      1\u001b[0m \u001b[0;32mdef\u001b[0m \u001b[0mCust_demo_modefication\u001b[0m\u001b[0;34m(\u001b[0m\u001b[0mdata1\u001b[0m\u001b[0;34m,\u001b[0m\u001b[0mdata2\u001b[0m\u001b[0;34m)\u001b[0m\u001b[0;34m:\u001b[0m\u001b[0;34m\u001b[0m\u001b[0;34m\u001b[0m\u001b[0m\n\u001b[0;32m----> 2\u001b[0;31m   \u001b[0mdata1\u001b[0m\u001b[0;34m[\u001b[0m\u001b[0;34m'Age'\u001b[0m\u001b[0;34m]\u001b[0m\u001b[0;34m=\u001b[0m\u001b[0mdata1\u001b[0m\u001b[0;34m[\u001b[0m\u001b[0;34m'DOB'\u001b[0m\u001b[0;34m]\u001b[0m\u001b[0;34m.\u001b[0m\u001b[0mapply\u001b[0m\u001b[0;34m(\u001b[0m\u001b[0mCalculateYear\u001b[0m\u001b[0;34m)\u001b[0m\u001b[0;34m\u001b[0m\u001b[0;34m\u001b[0m\u001b[0m\n\u001b[0m\u001b[1;32m      3\u001b[0m   \u001b[0mdata1\u001b[0m\u001b[0;34m[\u001b[0m\u001b[0;34m'Address'\u001b[0m\u001b[0;34m]\u001b[0m\u001b[0;34m=\u001b[0m\u001b[0mdata2\u001b[0m\u001b[0;34m[\u001b[0m\u001b[0;34m'address'\u001b[0m\u001b[0;34m]\u001b[0m\u001b[0;34m\u001b[0m\u001b[0;34m\u001b[0m\u001b[0m\n\u001b[1;32m      4\u001b[0m   \u001b[0mdata1\u001b[0m\u001b[0;34m[\u001b[0m\u001b[0;34m'postcode'\u001b[0m\u001b[0;34m]\u001b[0m\u001b[0;34m=\u001b[0m\u001b[0mdata2\u001b[0m\u001b[0;34m[\u001b[0m\u001b[0;34m'postcode'\u001b[0m\u001b[0;34m]\u001b[0m\u001b[0;34m\u001b[0m\u001b[0;34m\u001b[0m\u001b[0m\n\u001b[1;32m      5\u001b[0m   \u001b[0mdata1\u001b[0m\u001b[0;34m[\u001b[0m\u001b[0;34m'property_valuation'\u001b[0m\u001b[0;34m]\u001b[0m\u001b[0;34m=\u001b[0m\u001b[0mdata2\u001b[0m\u001b[0;34m[\u001b[0m\u001b[0;34m'property_valuation'\u001b[0m\u001b[0;34m]\u001b[0m\u001b[0;34m\u001b[0m\u001b[0;34m\u001b[0m\u001b[0m\n",
            "\u001b[0;32m/usr/local/lib/python3.6/dist-packages/pandas/core/series.py\u001b[0m in \u001b[0;36mapply\u001b[0;34m(self, func, convert_dtype, args, **kwds)\u001b[0m\n\u001b[1;32m   4043\u001b[0m             \u001b[0;32melse\u001b[0m\u001b[0;34m:\u001b[0m\u001b[0;34m\u001b[0m\u001b[0;34m\u001b[0m\u001b[0m\n\u001b[1;32m   4044\u001b[0m                 \u001b[0mvalues\u001b[0m \u001b[0;34m=\u001b[0m \u001b[0mself\u001b[0m\u001b[0;34m.\u001b[0m\u001b[0mastype\u001b[0m\u001b[0;34m(\u001b[0m\u001b[0mobject\u001b[0m\u001b[0;34m)\u001b[0m\u001b[0;34m.\u001b[0m\u001b[0mvalues\u001b[0m\u001b[0;34m\u001b[0m\u001b[0;34m\u001b[0m\u001b[0m\n\u001b[0;32m-> 4045\u001b[0;31m                 \u001b[0mmapped\u001b[0m \u001b[0;34m=\u001b[0m \u001b[0mlib\u001b[0m\u001b[0;34m.\u001b[0m\u001b[0mmap_infer\u001b[0m\u001b[0;34m(\u001b[0m\u001b[0mvalues\u001b[0m\u001b[0;34m,\u001b[0m \u001b[0mf\u001b[0m\u001b[0;34m,\u001b[0m \u001b[0mconvert\u001b[0m\u001b[0;34m=\u001b[0m\u001b[0mconvert_dtype\u001b[0m\u001b[0;34m)\u001b[0m\u001b[0;34m\u001b[0m\u001b[0;34m\u001b[0m\u001b[0m\n\u001b[0m\u001b[1;32m   4046\u001b[0m \u001b[0;34m\u001b[0m\u001b[0m\n\u001b[1;32m   4047\u001b[0m         \u001b[0;32mif\u001b[0m \u001b[0mlen\u001b[0m\u001b[0;34m(\u001b[0m\u001b[0mmapped\u001b[0m\u001b[0;34m)\u001b[0m \u001b[0;32mand\u001b[0m \u001b[0misinstance\u001b[0m\u001b[0;34m(\u001b[0m\u001b[0mmapped\u001b[0m\u001b[0;34m[\u001b[0m\u001b[0;36m0\u001b[0m\u001b[0;34m]\u001b[0m\u001b[0;34m,\u001b[0m \u001b[0mSeries\u001b[0m\u001b[0;34m)\u001b[0m\u001b[0;34m:\u001b[0m\u001b[0;34m\u001b[0m\u001b[0;34m\u001b[0m\u001b[0m\n",
            "\u001b[0;32mpandas/_libs/lib.pyx\u001b[0m in \u001b[0;36mpandas._libs.lib.map_infer\u001b[0;34m()\u001b[0m\n",
            "\u001b[0;32m<ipython-input-167-b71c76da21c0>\u001b[0m in \u001b[0;36mCalculateYear\u001b[0;34m(year)\u001b[0m\n\u001b[1;32m      1\u001b[0m \u001b[0;32mdef\u001b[0m \u001b[0mCalculateYear\u001b[0m\u001b[0;34m(\u001b[0m\u001b[0myear\u001b[0m\u001b[0;34m)\u001b[0m\u001b[0;34m:\u001b[0m\u001b[0;34m\u001b[0m\u001b[0;34m\u001b[0m\u001b[0m\n\u001b[1;32m      2\u001b[0m   \u001b[0mtoday\u001b[0m\u001b[0;34m=\u001b[0m\u001b[0mdatetime\u001b[0m\u001b[0;34m.\u001b[0m\u001b[0mtoday\u001b[0m\u001b[0;34m(\u001b[0m\u001b[0;34m)\u001b[0m\u001b[0;34m\u001b[0m\u001b[0;34m\u001b[0m\u001b[0m\n\u001b[0;32m----> 3\u001b[0;31m   \u001b[0mage\u001b[0m\u001b[0;34m=\u001b[0m\u001b[0mtoday\u001b[0m\u001b[0;34m.\u001b[0m\u001b[0myear\u001b[0m\u001b[0;34m-\u001b[0m\u001b[0myear\u001b[0m\u001b[0;34m\u001b[0m\u001b[0;34m\u001b[0m\u001b[0m\n\u001b[0m\u001b[1;32m      4\u001b[0m   \u001b[0;32mreturn\u001b[0m \u001b[0mage\u001b[0m\u001b[0;34m\u001b[0m\u001b[0;34m\u001b[0m\u001b[0m\n",
            "\u001b[0;32mpandas/_libs/tslibs/c_timestamp.pyx\u001b[0m in \u001b[0;36mpandas._libs.tslibs.c_timestamp._Timestamp.__sub__\u001b[0;34m()\u001b[0m\n",
            "\u001b[0;31mTypeError\u001b[0m: descriptor '__sub__' requires a 'datetime.datetime' object but received a 'int'"
          ]
        }
      ]
    },
    {
      "cell_type": "code",
      "metadata": {
        "id": "iDwLYfj6IyqO",
        "colab_type": "code",
        "colab": {}
      },
      "source": [
        ""
      ],
      "execution_count": 0,
      "outputs": []
    }
  ]
}